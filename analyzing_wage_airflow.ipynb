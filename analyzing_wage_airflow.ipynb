{
 "cells": [
  {
   "cell_type": "code",
   "execution_count": 22,
   "id": "2b069a02",
   "metadata": {},
   "outputs": [],
   "source": [
    "import boto3\n",
    "import pandas as pd\n",
    "import pyarrow.parquet as pq\n",
    "import io\n",
    "import matplotlib.pyplot as plt\n",
    "import seaborn as sns\n",
    "from fpdf import FPDF\n",
    "import plotly.express as px"
   ]
  },
  {
   "cell_type": "code",
   "execution_count": 23,
   "id": "11ce9b92",
   "metadata": {},
   "outputs": [],
   "source": [
    "# Replace with your own credentials\n",
    "aws_access_key_id = ''\n",
    "aws_secret_access_key = ''"
   ]
  },
  {
   "cell_type": "code",
   "execution_count": 24,
   "id": "d89c63c8",
   "metadata": {},
   "outputs": [],
   "source": [
    "# Create a session using your credentials\n",
    "session = boto3.Session(\n",
    "    aws_access_key_id=aws_access_key_id,\n",
    "    aws_secret_access_key=aws_secret_access_key,\n",
    "    region_name='us-east-1'  # e.g. 'us-east-1'\n",
    ")"
   ]
  },
  {
   "cell_type": "code",
   "execution_count": 25,
   "id": "fe799a84",
   "metadata": {},
   "outputs": [],
   "source": [
    "# Create an S3 client\n",
    "s3 = session.client('s3')"
   ]
  },
  {
   "cell_type": "code",
   "execution_count": 26,
   "id": "73fe5126",
   "metadata": {},
   "outputs": [],
   "source": [
    "# Define the bucket name and the file key\n",
    "bucket_name = 'wage-etl-airflow'\n",
    "prefix = 'clean_data/'\n"
   ]
  },
  {
   "cell_type": "code",
   "execution_count": 27,
   "id": "09f018f5",
   "metadata": {},
   "outputs": [],
   "source": [
    "response = s3.list_objects_v2(Bucket=bucket_name, Prefix=prefix)\n",
    "files = [obj['Key'] for obj in response.get('Contents', [])]\n"
   ]
  },
  {
   "cell_type": "code",
   "execution_count": 28,
   "id": "4e51e798",
   "metadata": {},
   "outputs": [
    {
     "name": "stdout",
     "output_type": "stream",
     "text": [
      "Reading clean_data/cleaned_wage_data/part-00000-tid-2928868939473729766-b45afc7e-86df-47f1-97bb-c1b9c3820a9b-191-1.c000.snappy.parquet\n",
      "Reading clean_data/cleaned_wage_data/part-00002-tid-2928868939473729766-b45afc7e-86df-47f1-97bb-c1b9c3820a9b-195-1.c000.snappy.parquet\n",
      "Reading clean_data/cleaned_wage_data/part-00003-tid-2928868939473729766-b45afc7e-86df-47f1-97bb-c1b9c3820a9b-197-1.c000.snappy.parquet\n",
      "Reading clean_data/cleaned_wage_data/part-00004-tid-2928868939473729766-b45afc7e-86df-47f1-97bb-c1b9c3820a9b-198-1.c000.snappy.parquet\n",
      "Reading clean_data/cleaned_wage_data/part-00005-tid-2928868939473729766-b45afc7e-86df-47f1-97bb-c1b9c3820a9b-196-1.c000.snappy.parquet\n",
      "Reading clean_data/cleaned_wage_data/part-00006-tid-2928868939473729766-b45afc7e-86df-47f1-97bb-c1b9c3820a9b-192-1.c000.snappy.parquet\n",
      "Reading clean_data/cleaned_wage_data/part-00007-tid-2928868939473729766-b45afc7e-86df-47f1-97bb-c1b9c3820a9b-194-1.c000.snappy.parquet\n"
     ]
    }
   ],
   "source": [
    "dfs = []\n",
    "for file in files:\n",
    "    if file.endswith('.parquet'):\n",
    "        print(f'Reading {file}')\n",
    "        \n",
    "        # Get the file object from S3\n",
    "        obj = s3.get_object(Bucket=bucket_name, Key=file)\n",
    "        \n",
    "        # Read the parquet file from the object body (content is in obj['Body'])\n",
    "        file_data = obj['Body'].read()\n",
    "        parquet_file = io.BytesIO(file_data)\n",
    "        \n",
    "        # Use pyarrow or pandas to read the parquet file into a DataFrame\n",
    "        df = pd.read_parquet(parquet_file)\n",
    "        \n",
    "        # Append the DataFrame to the list\n",
    "        dfs.append(df)\n",
    "\n",
    "# Combine all files into one DataFrame\n",
    "wage = pd.concat(dfs, ignore_index=True)\n",
    "\n"
   ]
  },
  {
   "cell_type": "code",
   "execution_count": 29,
   "id": "19ac1fef",
   "metadata": {},
   "outputs": [
    {
     "data": {
      "text/html": [
       "<div>\n",
       "<style scoped>\n",
       "    .dataframe tbody tr th:only-of-type {\n",
       "        vertical-align: middle;\n",
       "    }\n",
       "\n",
       "    .dataframe tbody tr th {\n",
       "        vertical-align: top;\n",
       "    }\n",
       "\n",
       "    .dataframe thead th {\n",
       "        text-align: right;\n",
       "    }\n",
       "</style>\n",
       "<table border=\"1\" class=\"dataframe\">\n",
       "  <thead>\n",
       "    <tr style=\"text-align: right;\">\n",
       "      <th></th>\n",
       "      <th>YEAR</th>\n",
       "      <th>Industry (NAICS)</th>\n",
       "      <th>Hourly Wage</th>\n",
       "      <th>GEO</th>\n",
       "      <th>Overtime</th>\n",
       "      <th>max_wage</th>\n",
       "    </tr>\n",
       "  </thead>\n",
       "  <tbody>\n",
       "    <tr>\n",
       "      <th>15780</th>\n",
       "      <td>2023</td>\n",
       "      <td>Information and cultural industries</td>\n",
       "      <td>35.03</td>\n",
       "      <td>Prince Edward Island</td>\n",
       "      <td>Excluding overtime</td>\n",
       "      <td>35.03</td>\n",
       "    </tr>\n",
       "    <tr>\n",
       "      <th>15857</th>\n",
       "      <td>2023</td>\n",
       "      <td>Architectural, engineering and related services</td>\n",
       "      <td>39.04</td>\n",
       "      <td>Nova Scotia</td>\n",
       "      <td>Excluding overtime</td>\n",
       "      <td>39.04</td>\n",
       "    </tr>\n",
       "    <tr>\n",
       "      <th>15950</th>\n",
       "      <td>2023</td>\n",
       "      <td>Information and cultural industries</td>\n",
       "      <td>43.49</td>\n",
       "      <td>New Brunswick</td>\n",
       "      <td>Excluding overtime</td>\n",
       "      <td>43.49</td>\n",
       "    </tr>\n",
       "    <tr>\n",
       "      <th>16142</th>\n",
       "      <td>2023</td>\n",
       "      <td>Rail transportation</td>\n",
       "      <td>42.79</td>\n",
       "      <td>Quebec</td>\n",
       "      <td>Excluding overtime</td>\n",
       "      <td>42.79</td>\n",
       "    </tr>\n",
       "    <tr>\n",
       "      <th>16309</th>\n",
       "      <td>2023</td>\n",
       "      <td>Utilities</td>\n",
       "      <td>44.88</td>\n",
       "      <td>Ontario</td>\n",
       "      <td>Excluding overtime</td>\n",
       "      <td>44.88</td>\n",
       "    </tr>\n",
       "    <tr>\n",
       "      <th>16519</th>\n",
       "      <td>2023</td>\n",
       "      <td>Architectural, engineering and related services</td>\n",
       "      <td>44.59</td>\n",
       "      <td>Manitoba</td>\n",
       "      <td>Excluding overtime</td>\n",
       "      <td>44.59</td>\n",
       "    </tr>\n",
       "    <tr>\n",
       "      <th>16629</th>\n",
       "      <td>2023</td>\n",
       "      <td>Architectural, engineering and related services</td>\n",
       "      <td>44.40</td>\n",
       "      <td>Saskatchewan</td>\n",
       "      <td>Excluding overtime</td>\n",
       "      <td>44.40</td>\n",
       "    </tr>\n",
       "    <tr>\n",
       "      <th>16740</th>\n",
       "      <td>2023</td>\n",
       "      <td>Electric power generation, transmission and di...</td>\n",
       "      <td>47.12</td>\n",
       "      <td>Alberta</td>\n",
       "      <td>Excluding overtime</td>\n",
       "      <td>47.12</td>\n",
       "    </tr>\n",
       "    <tr>\n",
       "      <th>16946</th>\n",
       "      <td>2023</td>\n",
       "      <td>Primary metal manufacturing</td>\n",
       "      <td>50.07</td>\n",
       "      <td>British Columbia</td>\n",
       "      <td>Excluding overtime</td>\n",
       "      <td>50.07</td>\n",
       "    </tr>\n",
       "    <tr>\n",
       "      <th>17026</th>\n",
       "      <td>2023</td>\n",
       "      <td>Construction</td>\n",
       "      <td>36.71</td>\n",
       "      <td>Yukon</td>\n",
       "      <td>Excluding overtime</td>\n",
       "      <td>36.71</td>\n",
       "    </tr>\n",
       "    <tr>\n",
       "      <th>17047</th>\n",
       "      <td>2023</td>\n",
       "      <td>Goods producing industries</td>\n",
       "      <td>46.25</td>\n",
       "      <td>Northwest Territories</td>\n",
       "      <td>Excluding overtime</td>\n",
       "      <td>46.25</td>\n",
       "    </tr>\n",
       "    <tr>\n",
       "      <th>17066</th>\n",
       "      <td>2023</td>\n",
       "      <td>Real estate and rental and leasing</td>\n",
       "      <td>40.46</td>\n",
       "      <td>Nunavut</td>\n",
       "      <td>Excluding overtime</td>\n",
       "      <td>40.46</td>\n",
       "    </tr>\n",
       "    <tr>\n",
       "      <th>30596</th>\n",
       "      <td>2023</td>\n",
       "      <td>Mining, quarrying, and oil and gas extraction</td>\n",
       "      <td>44.56</td>\n",
       "      <td>Canada</td>\n",
       "      <td>Excluding overtime</td>\n",
       "      <td>44.56</td>\n",
       "    </tr>\n",
       "    <tr>\n",
       "      <th>30866</th>\n",
       "      <td>2023</td>\n",
       "      <td>Architectural, engineering and related services</td>\n",
       "      <td>48.99</td>\n",
       "      <td>Newfoundland and Labrador</td>\n",
       "      <td>Excluding overtime</td>\n",
       "      <td>48.99</td>\n",
       "    </tr>\n",
       "  </tbody>\n",
       "</table>\n",
       "</div>"
      ],
      "text/plain": [
       "       YEAR                                   Industry (NAICS)  Hourly Wage  \\\n",
       "15780  2023               Information and cultural industries         35.03   \n",
       "15857  2023   Architectural, engineering and related services         39.04   \n",
       "15950  2023               Information and cultural industries         43.49   \n",
       "16142  2023                               Rail transportation         42.79   \n",
       "16309  2023                                         Utilities         44.88   \n",
       "16519  2023   Architectural, engineering and related services         44.59   \n",
       "16629  2023   Architectural, engineering and related services         44.40   \n",
       "16740  2023  Electric power generation, transmission and di...        47.12   \n",
       "16946  2023                       Primary metal manufacturing         50.07   \n",
       "17026  2023                                      Construction         36.71   \n",
       "17047  2023                        Goods producing industries         46.25   \n",
       "17066  2023                Real estate and rental and leasing         40.46   \n",
       "30596  2023     Mining, quarrying, and oil and gas extraction         44.56   \n",
       "30866  2023   Architectural, engineering and related services         48.99   \n",
       "\n",
       "                             GEO            Overtime  max_wage  \n",
       "15780       Prince Edward Island  Excluding overtime     35.03  \n",
       "15857                Nova Scotia  Excluding overtime     39.04  \n",
       "15950              New Brunswick  Excluding overtime     43.49  \n",
       "16142                     Quebec  Excluding overtime     42.79  \n",
       "16309                    Ontario  Excluding overtime     44.88  \n",
       "16519                   Manitoba  Excluding overtime     44.59  \n",
       "16629               Saskatchewan  Excluding overtime     44.40  \n",
       "16740                    Alberta  Excluding overtime     47.12  \n",
       "16946           British Columbia  Excluding overtime     50.07  \n",
       "17026                      Yukon  Excluding overtime     36.71  \n",
       "17047      Northwest Territories  Excluding overtime     46.25  \n",
       "17066                    Nunavut  Excluding overtime     40.46  \n",
       "30596                     Canada  Excluding overtime     44.56  \n",
       "30866  Newfoundland and Labrador  Excluding overtime     48.99  "
      ]
     },
     "execution_count": 29,
     "metadata": {},
     "output_type": "execute_result"
    }
   ],
   "source": [
    "#highest wage industry in each province for year2023\n",
    "\n",
    "wage = wage[wage['Overtime'] == 'Excluding overtime']\n",
    "wage['max_wage'] = wage.groupby(['GEO','YEAR'])['Hourly Wage'].transform('max')   #this is max wage year and geo wise\n",
    "wage[(wage['YEAR'] == 2023) & (wage['Hourly Wage'] == wage['max_wage'])]"
   ]
  },
  {
   "cell_type": "code",
   "execution_count": 30,
   "id": "50eb5474",
   "metadata": {},
   "outputs": [
    {
     "data": {
      "text/html": [
       "<div>\n",
       "<style scoped>\n",
       "    .dataframe tbody tr th:only-of-type {\n",
       "        vertical-align: middle;\n",
       "    }\n",
       "\n",
       "    .dataframe tbody tr th {\n",
       "        vertical-align: top;\n",
       "    }\n",
       "\n",
       "    .dataframe thead th {\n",
       "        text-align: right;\n",
       "    }\n",
       "</style>\n",
       "<table border=\"1\" class=\"dataframe\">\n",
       "  <thead>\n",
       "    <tr style=\"text-align: right;\">\n",
       "      <th></th>\n",
       "      <th>YEAR</th>\n",
       "      <th>Industry (NAICS)</th>\n",
       "      <th>Hourly Wage</th>\n",
       "      <th>GEO</th>\n",
       "      <th>Overtime</th>\n",
       "      <th>max_wage</th>\n",
       "      <th>min_wage</th>\n",
       "    </tr>\n",
       "  </thead>\n",
       "  <tbody>\n",
       "    <tr>\n",
       "      <th>15776</th>\n",
       "      <td>2023</td>\n",
       "      <td>General merchandise retailers</td>\n",
       "      <td>18.11</td>\n",
       "      <td>Prince Edward Island</td>\n",
       "      <td>Excluding overtime</td>\n",
       "      <td>35.03</td>\n",
       "      <td>18.11</td>\n",
       "    </tr>\n",
       "    <tr>\n",
       "      <th>15867</th>\n",
       "      <td>2023</td>\n",
       "      <td>Amusement, gambling and recreation industries</td>\n",
       "      <td>19.07</td>\n",
       "      <td>Nova Scotia</td>\n",
       "      <td>Excluding overtime</td>\n",
       "      <td>39.04</td>\n",
       "      <td>19.07</td>\n",
       "    </tr>\n",
       "    <tr>\n",
       "      <th>15942</th>\n",
       "      <td>2023</td>\n",
       "      <td>Grocery and convenience retailers</td>\n",
       "      <td>18.88</td>\n",
       "      <td>New Brunswick</td>\n",
       "      <td>Excluding overtime</td>\n",
       "      <td>43.49</td>\n",
       "      <td>18.88</td>\n",
       "    </tr>\n",
       "    <tr>\n",
       "      <th>16136</th>\n",
       "      <td>2023</td>\n",
       "      <td>Gasoline stations</td>\n",
       "      <td>18.53</td>\n",
       "      <td>Quebec</td>\n",
       "      <td>Excluding overtime</td>\n",
       "      <td>42.79</td>\n",
       "      <td>18.53</td>\n",
       "    </tr>\n",
       "    <tr>\n",
       "      <th>16411</th>\n",
       "      <td>2023</td>\n",
       "      <td>Full-service restaurants and limited-service e...</td>\n",
       "      <td>17.86</td>\n",
       "      <td>Ontario</td>\n",
       "      <td>Excluding overtime</td>\n",
       "      <td>44.88</td>\n",
       "      <td>17.86</td>\n",
       "    </tr>\n",
       "    <tr>\n",
       "      <th>16532</th>\n",
       "      <td>2023</td>\n",
       "      <td>Full-service restaurants and limited-service e...</td>\n",
       "      <td>16.86</td>\n",
       "      <td>Manitoba</td>\n",
       "      <td>Excluding overtime</td>\n",
       "      <td>44.59</td>\n",
       "      <td>16.86</td>\n",
       "    </tr>\n",
       "    <tr>\n",
       "      <th>16638</th>\n",
       "      <td>2023</td>\n",
       "      <td>Food services and drinking places</td>\n",
       "      <td>16.58</td>\n",
       "      <td>Saskatchewan</td>\n",
       "      <td>Excluding overtime</td>\n",
       "      <td>44.40</td>\n",
       "      <td>16.58</td>\n",
       "    </tr>\n",
       "    <tr>\n",
       "      <th>16818</th>\n",
       "      <td>2023</td>\n",
       "      <td>Food services and drinking places</td>\n",
       "      <td>17.89</td>\n",
       "      <td>Alberta</td>\n",
       "      <td>Excluding overtime</td>\n",
       "      <td>47.12</td>\n",
       "      <td>17.89</td>\n",
       "    </tr>\n",
       "    <tr>\n",
       "      <th>17011</th>\n",
       "      <td>2023</td>\n",
       "      <td>Accommodation and food services</td>\n",
       "      <td>19.54</td>\n",
       "      <td>British Columbia</td>\n",
       "      <td>Excluding overtime</td>\n",
       "      <td>50.07</td>\n",
       "      <td>19.54</td>\n",
       "    </tr>\n",
       "    <tr>\n",
       "      <th>17032</th>\n",
       "      <td>2023</td>\n",
       "      <td>Full-service restaurants and limited-service e...</td>\n",
       "      <td>18.20</td>\n",
       "      <td>Yukon</td>\n",
       "      <td>Excluding overtime</td>\n",
       "      <td>36.71</td>\n",
       "      <td>18.20</td>\n",
       "    </tr>\n",
       "    <tr>\n",
       "      <th>17051</th>\n",
       "      <td>2023</td>\n",
       "      <td>Sporting goods, hobby, musical instrument, boo...</td>\n",
       "      <td>21.31</td>\n",
       "      <td>Northwest Territories</td>\n",
       "      <td>Excluding overtime</td>\n",
       "      <td>46.25</td>\n",
       "      <td>21.31</td>\n",
       "    </tr>\n",
       "    <tr>\n",
       "      <th>17065</th>\n",
       "      <td>2023</td>\n",
       "      <td>Trade</td>\n",
       "      <td>23.24</td>\n",
       "      <td>Nunavut</td>\n",
       "      <td>Excluding overtime</td>\n",
       "      <td>40.46</td>\n",
       "      <td>23.24</td>\n",
       "    </tr>\n",
       "    <tr>\n",
       "      <th>30795</th>\n",
       "      <td>2023</td>\n",
       "      <td>Full-service restaurants and limited-service e...</td>\n",
       "      <td>18.12</td>\n",
       "      <td>Canada</td>\n",
       "      <td>Excluding overtime</td>\n",
       "      <td>44.56</td>\n",
       "      <td>18.12</td>\n",
       "    </tr>\n",
       "    <tr>\n",
       "      <th>30859</th>\n",
       "      <td>2023</td>\n",
       "      <td>Gasoline stations</td>\n",
       "      <td>17.09</td>\n",
       "      <td>Newfoundland and Labrador</td>\n",
       "      <td>Excluding overtime</td>\n",
       "      <td>48.99</td>\n",
       "      <td>17.09</td>\n",
       "    </tr>\n",
       "  </tbody>\n",
       "</table>\n",
       "</div>"
      ],
      "text/plain": [
       "       YEAR                                   Industry (NAICS)  Hourly Wage  \\\n",
       "15776  2023                     General merchandise retailers         18.11   \n",
       "15867  2023     Amusement, gambling and recreation industries         19.07   \n",
       "15942  2023                 Grocery and convenience retailers         18.88   \n",
       "16136  2023                                 Gasoline stations         18.53   \n",
       "16411  2023  Full-service restaurants and limited-service e...        17.86   \n",
       "16532  2023  Full-service restaurants and limited-service e...        16.86   \n",
       "16638  2023                 Food services and drinking places         16.58   \n",
       "16818  2023                 Food services and drinking places         17.89   \n",
       "17011  2023                   Accommodation and food services         19.54   \n",
       "17032  2023  Full-service restaurants and limited-service e...        18.20   \n",
       "17051  2023  Sporting goods, hobby, musical instrument, boo...        21.31   \n",
       "17065  2023                                             Trade         23.24   \n",
       "30795  2023  Full-service restaurants and limited-service e...        18.12   \n",
       "30859  2023                                 Gasoline stations         17.09   \n",
       "\n",
       "                             GEO            Overtime  max_wage  min_wage  \n",
       "15776       Prince Edward Island  Excluding overtime     35.03     18.11  \n",
       "15867                Nova Scotia  Excluding overtime     39.04     19.07  \n",
       "15942              New Brunswick  Excluding overtime     43.49     18.88  \n",
       "16136                     Quebec  Excluding overtime     42.79     18.53  \n",
       "16411                    Ontario  Excluding overtime     44.88     17.86  \n",
       "16532                   Manitoba  Excluding overtime     44.59     16.86  \n",
       "16638               Saskatchewan  Excluding overtime     44.40     16.58  \n",
       "16818                    Alberta  Excluding overtime     47.12     17.89  \n",
       "17011           British Columbia  Excluding overtime     50.07     19.54  \n",
       "17032                      Yukon  Excluding overtime     36.71     18.20  \n",
       "17051      Northwest Territories  Excluding overtime     46.25     21.31  \n",
       "17065                    Nunavut  Excluding overtime     40.46     23.24  \n",
       "30795                     Canada  Excluding overtime     44.56     18.12  \n",
       "30859  Newfoundland and Labrador  Excluding overtime     48.99     17.09  "
      ]
     },
     "execution_count": 30,
     "metadata": {},
     "output_type": "execute_result"
    }
   ],
   "source": [
    "#lowest wage industry in each province for year2023\n",
    " \n",
    "wage['min_wage'] = wage.groupby(['GEO','YEAR'])['Hourly Wage'].transform('min')      #this is min wage year and geo wise\n",
    "wage[(wage['YEAR'] == 2023) & (wage['Hourly Wage'] == wage['min_wage'])]"
   ]
  },
  {
   "cell_type": "code",
   "execution_count": 31,
   "id": "b430fb31",
   "metadata": {},
   "outputs": [
    {
     "data": {
      "text/html": [
       "<div>\n",
       "<style scoped>\n",
       "    .dataframe tbody tr th:only-of-type {\n",
       "        vertical-align: middle;\n",
       "    }\n",
       "\n",
       "    .dataframe tbody tr th {\n",
       "        vertical-align: top;\n",
       "    }\n",
       "\n",
       "    .dataframe thead th {\n",
       "        text-align: right;\n",
       "    }\n",
       "</style>\n",
       "<table border=\"1\" class=\"dataframe\">\n",
       "  <thead>\n",
       "    <tr style=\"text-align: right;\">\n",
       "      <th></th>\n",
       "      <th>YEAR</th>\n",
       "      <th>Industry (NAICS)</th>\n",
       "      <th>Hourly Wage</th>\n",
       "      <th>GEO</th>\n",
       "      <th>Overtime</th>\n",
       "      <th>max_wage</th>\n",
       "      <th>min_wage</th>\n",
       "    </tr>\n",
       "  </thead>\n",
       "  <tbody>\n",
       "    <tr>\n",
       "      <th>557</th>\n",
       "      <td>2009</td>\n",
       "      <td>Industrial aggregate excluding unclassified bu...</td>\n",
       "      <td>19.22</td>\n",
       "      <td>Newfoundland and Labrador</td>\n",
       "      <td>Excluding overtime</td>\n",
       "      <td>29.48</td>\n",
       "      <td>10.93</td>\n",
       "    </tr>\n",
       "    <tr>\n",
       "      <th>558</th>\n",
       "      <td>2009</td>\n",
       "      <td>Goods producing industries</td>\n",
       "      <td>21.23</td>\n",
       "      <td>Newfoundland and Labrador</td>\n",
       "      <td>Excluding overtime</td>\n",
       "      <td>29.48</td>\n",
       "      <td>10.93</td>\n",
       "    </tr>\n",
       "    <tr>\n",
       "      <th>559</th>\n",
       "      <td>2009</td>\n",
       "      <td>Construction</td>\n",
       "      <td>21.24</td>\n",
       "      <td>Newfoundland and Labrador</td>\n",
       "      <td>Excluding overtime</td>\n",
       "      <td>29.48</td>\n",
       "      <td>10.93</td>\n",
       "    </tr>\n",
       "    <tr>\n",
       "      <th>560</th>\n",
       "      <td>2009</td>\n",
       "      <td>Specialty trade contractors</td>\n",
       "      <td>20.79</td>\n",
       "      <td>Newfoundland and Labrador</td>\n",
       "      <td>Excluding overtime</td>\n",
       "      <td>29.48</td>\n",
       "      <td>10.93</td>\n",
       "    </tr>\n",
       "    <tr>\n",
       "      <th>561</th>\n",
       "      <td>2009</td>\n",
       "      <td>Building equipment contractors</td>\n",
       "      <td>23.97</td>\n",
       "      <td>Newfoundland and Labrador</td>\n",
       "      <td>Excluding overtime</td>\n",
       "      <td>29.48</td>\n",
       "      <td>10.93</td>\n",
       "    </tr>\n",
       "    <tr>\n",
       "      <th>...</th>\n",
       "      <td>...</td>\n",
       "      <td>...</td>\n",
       "      <td>...</td>\n",
       "      <td>...</td>\n",
       "      <td>...</td>\n",
       "      <td>...</td>\n",
       "      <td>...</td>\n",
       "    </tr>\n",
       "    <tr>\n",
       "      <th>30873</th>\n",
       "      <td>2023</td>\n",
       "      <td>Arts, entertainment and recreation</td>\n",
       "      <td>20.46</td>\n",
       "      <td>Newfoundland and Labrador</td>\n",
       "      <td>Excluding overtime</td>\n",
       "      <td>48.99</td>\n",
       "      <td>17.09</td>\n",
       "    </tr>\n",
       "    <tr>\n",
       "      <th>30874</th>\n",
       "      <td>2023</td>\n",
       "      <td>Other services (except public administration)</td>\n",
       "      <td>25.45</td>\n",
       "      <td>Newfoundland and Labrador</td>\n",
       "      <td>Excluding overtime</td>\n",
       "      <td>48.99</td>\n",
       "      <td>17.09</td>\n",
       "    </tr>\n",
       "    <tr>\n",
       "      <th>30875</th>\n",
       "      <td>2023</td>\n",
       "      <td>Repair and maintenance</td>\n",
       "      <td>27.46</td>\n",
       "      <td>Newfoundland and Labrador</td>\n",
       "      <td>Excluding overtime</td>\n",
       "      <td>48.99</td>\n",
       "      <td>17.09</td>\n",
       "    </tr>\n",
       "    <tr>\n",
       "      <th>30876</th>\n",
       "      <td>2023</td>\n",
       "      <td>Personal care services</td>\n",
       "      <td>19.96</td>\n",
       "      <td>Newfoundland and Labrador</td>\n",
       "      <td>Excluding overtime</td>\n",
       "      <td>48.99</td>\n",
       "      <td>17.09</td>\n",
       "    </tr>\n",
       "    <tr>\n",
       "      <th>30877</th>\n",
       "      <td>2023</td>\n",
       "      <td>Religious, grant-making, civic, and profession...</td>\n",
       "      <td>25.28</td>\n",
       "      <td>Newfoundland and Labrador</td>\n",
       "      <td>Excluding overtime</td>\n",
       "      <td>48.99</td>\n",
       "      <td>17.09</td>\n",
       "    </tr>\n",
       "  </tbody>\n",
       "</table>\n",
       "<p>11568 rows × 7 columns</p>\n",
       "</div>"
      ],
      "text/plain": [
       "       YEAR                                   Industry (NAICS)  Hourly Wage  \\\n",
       "557    2009  Industrial aggregate excluding unclassified bu...        19.22   \n",
       "558    2009                        Goods producing industries         21.23   \n",
       "559    2009                                      Construction         21.24   \n",
       "560    2009                       Specialty trade contractors         20.79   \n",
       "561    2009                    Building equipment contractors         23.97   \n",
       "...     ...                                                ...          ...   \n",
       "30873  2023                Arts, entertainment and recreation         20.46   \n",
       "30874  2023     Other services (except public administration)         25.45   \n",
       "30875  2023                            Repair and maintenance         27.46   \n",
       "30876  2023                            Personal care services         19.96   \n",
       "30877  2023  Religious, grant-making, civic, and profession...        25.28   \n",
       "\n",
       "                             GEO            Overtime  max_wage  min_wage  \n",
       "557    Newfoundland and Labrador  Excluding overtime     29.48     10.93  \n",
       "558    Newfoundland and Labrador  Excluding overtime     29.48     10.93  \n",
       "559    Newfoundland and Labrador  Excluding overtime     29.48     10.93  \n",
       "560    Newfoundland and Labrador  Excluding overtime     29.48     10.93  \n",
       "561    Newfoundland and Labrador  Excluding overtime     29.48     10.93  \n",
       "...                          ...                 ...       ...       ...  \n",
       "30873  Newfoundland and Labrador  Excluding overtime     48.99     17.09  \n",
       "30874  Newfoundland and Labrador  Excluding overtime     48.99     17.09  \n",
       "30875  Newfoundland and Labrador  Excluding overtime     48.99     17.09  \n",
       "30876  Newfoundland and Labrador  Excluding overtime     48.99     17.09  \n",
       "30877  Newfoundland and Labrador  Excluding overtime     48.99     17.09  \n",
       "\n",
       "[11568 rows x 7 columns]"
      ]
     },
     "execution_count": 31,
     "metadata": {},
     "output_type": "execute_result"
    }
   ],
   "source": [
    "wage_province = wage[wage['GEO'] != 'Canada']\n",
    "wage_province"
   ]
  },
  {
   "cell_type": "code",
   "execution_count": 32,
   "id": "dd9712bb",
   "metadata": {},
   "outputs": [
    {
     "data": {
      "image/png": "[encoded data removed]",
      "text/plain": [
       "<Figure size 1000x600 with 1 Axes>"
      ]
     },
     "metadata": {},
     "output_type": "display_data"
    }
   ],
   "source": [
    "# Set the plot style\n",
    "sns.set(style='whitegrid')\n",
    "\n",
    "# Custom color palette for 13 lines\n",
    "custom_palette = ['#1f77b4', '#ff7f0e', '#2ca02c', '#d62728', '#9467bd', \n",
    "                  '#8c564b', '#e377c2', '#7f7f7f', '#bcbd22', '#17becf', \n",
    "                  '#ffbb78', '#aec7e8', '#ff9896']\n",
    "\n",
    "plt.figure(figsize=(10, 6))\n",
    "\n",
    "sns.lineplot(data=wage_province, x='YEAR', y='max_wage', hue='GEO', marker='o',palette=custom_palette)\n",
    "\n",
    "plt.title('Maximum Wage Trend by Year and GEO', fontsize=16)\n",
    "plt.xlabel('Year', fontsize=12)\n",
    "plt.ylabel('Maximum Wage', fontsize=12)\n",
    "plt.xticks(rotation=45)\n",
    "plt.legend(title='GEO', bbox_to_anchor=(1.05, 1), loc='upper left')\n",
    "plt.tight_layout()\n",
    "\n",
    "plt.show()"
   ]
  },
  {
   "cell_type": "code",
   "execution_count": 33,
   "id": "37349b48",
   "metadata": {},
   "outputs": [
    {
     "name": "stderr",
     "output_type": "stream",
     "text": [
      "C:\\Users\\mahar\\AppData\\Local\\Temp\\ipykernel_44452\\3176909196.py:1: SettingWithCopyWarning:\n",
      "\n",
      "\n",
      "A value is trying to be set on a copy of a slice from a DataFrame.\n",
      "Try using .loc[row_indexer,col_indexer] = value instead\n",
      "\n",
      "See the caveats in the documentation: https://pandas.pydata.org/pandas-docs/stable/user_guide/indexing.html#returning-a-view-versus-a-copy\n",
      "\n"
     ]
    },
    {
     "data": {
      "text/html": [
       "<div>\n",
       "<style scoped>\n",
       "    .dataframe tbody tr th:only-of-type {\n",
       "        vertical-align: middle;\n",
       "    }\n",
       "\n",
       "    .dataframe tbody tr th {\n",
       "        vertical-align: top;\n",
       "    }\n",
       "\n",
       "    .dataframe thead th {\n",
       "        text-align: right;\n",
       "    }\n",
       "</style>\n",
       "<table border=\"1\" class=\"dataframe\">\n",
       "  <thead>\n",
       "    <tr style=\"text-align: right;\">\n",
       "      <th></th>\n",
       "      <th>YEAR</th>\n",
       "      <th>Industry (NAICS)</th>\n",
       "      <th>GEO</th>\n",
       "      <th>max_wage_year</th>\n",
       "    </tr>\n",
       "  </thead>\n",
       "  <tbody>\n",
       "    <tr>\n",
       "      <th>1701</th>\n",
       "      <td>2009</td>\n",
       "      <td>Oil and gas extraction</td>\n",
       "      <td>Alberta</td>\n",
       "      <td>46.83</td>\n",
       "    </tr>\n",
       "    <tr>\n",
       "      <th>3176</th>\n",
       "      <td>2013</td>\n",
       "      <td>Support activities for mining, and oil and gas...</td>\n",
       "      <td>Saskatchewan</td>\n",
       "      <td>41.88</td>\n",
       "    </tr>\n",
       "    <tr>\n",
       "      <th>5511</th>\n",
       "      <td>2014</td>\n",
       "      <td>Oil and gas extraction</td>\n",
       "      <td>Alberta</td>\n",
       "      <td>46.27</td>\n",
       "    </tr>\n",
       "    <tr>\n",
       "      <th>7843</th>\n",
       "      <td>2015</td>\n",
       "      <td>Wholesale trade</td>\n",
       "      <td>Northwest Territories</td>\n",
       "      <td>55.04</td>\n",
       "    </tr>\n",
       "    <tr>\n",
       "      <th>9329</th>\n",
       "      <td>2016</td>\n",
       "      <td>Mining, quarrying, and oil and gas extraction</td>\n",
       "      <td>Saskatchewan</td>\n",
       "      <td>41.94</td>\n",
       "    </tr>\n",
       "    <tr>\n",
       "      <th>11499</th>\n",
       "      <td>2017</td>\n",
       "      <td>Oil and gas extraction</td>\n",
       "      <td>Alberta</td>\n",
       "      <td>47.88</td>\n",
       "    </tr>\n",
       "    <tr>\n",
       "      <th>13469</th>\n",
       "      <td>2018</td>\n",
       "      <td>Mining, quarrying, and oil and gas extraction</td>\n",
       "      <td>Alberta</td>\n",
       "      <td>43.60</td>\n",
       "    </tr>\n",
       "    <tr>\n",
       "      <th>15271</th>\n",
       "      <td>2019</td>\n",
       "      <td>Mining, quarrying, and oil and gas extraction</td>\n",
       "      <td>Saskatchewan</td>\n",
       "      <td>46.40</td>\n",
       "    </tr>\n",
       "    <tr>\n",
       "      <th>16946</th>\n",
       "      <td>2023</td>\n",
       "      <td>Primary metal manufacturing</td>\n",
       "      <td>British Columbia</td>\n",
       "      <td>50.07</td>\n",
       "    </tr>\n",
       "    <tr>\n",
       "      <th>17789</th>\n",
       "      <td>2010</td>\n",
       "      <td>Natural gas distribution</td>\n",
       "      <td>Alberta</td>\n",
       "      <td>35.51</td>\n",
       "    </tr>\n",
       "    <tr>\n",
       "      <th>20188</th>\n",
       "      <td>2011</td>\n",
       "      <td>Architectural, engineering and related services</td>\n",
       "      <td>Alberta</td>\n",
       "      <td>36.69</td>\n",
       "    </tr>\n",
       "    <tr>\n",
       "      <th>22429</th>\n",
       "      <td>2012</td>\n",
       "      <td>Oil and gas extraction</td>\n",
       "      <td>Alberta</td>\n",
       "      <td>48.18</td>\n",
       "    </tr>\n",
       "    <tr>\n",
       "      <th>24860</th>\n",
       "      <td>2020</td>\n",
       "      <td>Mining, quarrying, and oil and gas extraction</td>\n",
       "      <td>Newfoundland and Labrador</td>\n",
       "      <td>47.11</td>\n",
       "    </tr>\n",
       "    <tr>\n",
       "      <th>27967</th>\n",
       "      <td>2021</td>\n",
       "      <td>Telecommunications</td>\n",
       "      <td>Alberta</td>\n",
       "      <td>47.89</td>\n",
       "    </tr>\n",
       "    <tr>\n",
       "      <th>30211</th>\n",
       "      <td>2022</td>\n",
       "      <td>Utility system construction</td>\n",
       "      <td>British Columbia</td>\n",
       "      <td>48.96</td>\n",
       "    </tr>\n",
       "  </tbody>\n",
       "</table>\n",
       "</div>"
      ],
      "text/plain": [
       "       YEAR                                   Industry (NAICS)  \\\n",
       "1701   2009                            Oil and gas extraction    \n",
       "3176   2013  Support activities for mining, and oil and gas...   \n",
       "5511   2014                            Oil and gas extraction    \n",
       "7843   2015                                   Wholesale trade    \n",
       "9329   2016     Mining, quarrying, and oil and gas extraction    \n",
       "11499  2017                            Oil and gas extraction    \n",
       "13469  2018     Mining, quarrying, and oil and gas extraction    \n",
       "15271  2019     Mining, quarrying, and oil and gas extraction    \n",
       "16946  2023                       Primary metal manufacturing    \n",
       "17789  2010                          Natural gas distribution    \n",
       "20188  2011   Architectural, engineering and related services    \n",
       "22429  2012                            Oil and gas extraction    \n",
       "24860  2020     Mining, quarrying, and oil and gas extraction    \n",
       "27967  2021                                Telecommunications    \n",
       "30211  2022                       Utility system construction    \n",
       "\n",
       "                             GEO  max_wage_year  \n",
       "1701                     Alberta          46.83  \n",
       "3176                Saskatchewan          41.88  \n",
       "5511                     Alberta          46.27  \n",
       "7843       Northwest Territories          55.04  \n",
       "9329                Saskatchewan          41.94  \n",
       "11499                    Alberta          47.88  \n",
       "13469                    Alberta          43.60  \n",
       "15271               Saskatchewan          46.40  \n",
       "16946           British Columbia          50.07  \n",
       "17789                    Alberta          35.51  \n",
       "20188                    Alberta          36.69  \n",
       "22429                    Alberta          48.18  \n",
       "24860  Newfoundland and Labrador          47.11  \n",
       "27967                    Alberta          47.89  \n",
       "30211           British Columbia          48.96  "
      ]
     },
     "execution_count": 33,
     "metadata": {},
     "output_type": "execute_result"
    }
   ],
   "source": [
    "wage_province['max_wage_year'] = wage_province.groupby('YEAR')['Hourly Wage'].transform('max') #this is max_wage year wise\n",
    "wage_province_max_year = wage_province[wage_province['Hourly Wage'] == wage_province['max_wage_year']]\n",
    "wage_province_max_year = wage_province_max_year[['YEAR','Industry (NAICS)','GEO','max_wage_year']]\n",
    "wage_province_max_year"
   ]
  },
  {
   "cell_type": "code",
   "execution_count": 34,
   "id": "39741366",
   "metadata": {},
   "outputs": [
    {
     "data": {
      "application/vnd.plotly.v1+json": {
       "config": {
        "plotlyServerURL": "https://plot.ly"
       },
       "data": [
        {
         "alignmentgroup": "True",
         "hovertemplate": "GEO=Alberta<br>Year=%{x}<br>Maximum Wage (CAD)=%{text}<extra></extra>",
         "legendgroup": "Alberta",
         "marker": {
          "color": "#636efa",
          "line": {
           "color": "black",
           "width": 1.5
          },
          "pattern": {
           "shape": ""
          }
         },
         "name": "Alberta",
         "offsetgroup": "Alberta",
         "opacity": 0.85,
         "orientation": "v",
         "showlegend": true,
         "text": [
          46.83,
          46.27,
          47.88,
          43.6,
          35.51,
          36.69,
          48.18,
          47.89
         ],
         "textposition": "inside",
         "texttemplate": "%{text:.2f}",
         "type": "bar",
         "x": [
          2009,
          2014,
          2017,
          2018,
          2010,
          2011,
          2012,
          2021
         ],
         "xaxis": "x",
         "y": [
          46.83,
          46.27,
          47.88,
          43.6,
          35.51,
          36.69,
          48.18,
          47.89
         ],
         "yaxis": "y"
        },
        {
         "alignmentgroup": "True",
         "hovertemplate": "GEO=Saskatchewan<br>Year=%{x}<br>Maximum Wage (CAD)=%{text}<extra></extra>",
         "legendgroup": "Saskatchewan",
         "marker": {
          "color": "#EF553B",
          "line": {
           "color": "black",
           "width": 1.5
          },
          "pattern": {
           "shape": ""
          }
         },
         "name": "Saskatchewan",
         "offsetgroup": "Saskatchewan",
         "opacity": 0.85,
         "orientation": "v",
         "showlegend": true,
         "text": [
          41.88,
          41.94,
          46.4
         ],
         "textposition": "inside",
         "texttemplate": "%{text:.2f}",
         "type": "bar",
         "x": [
          2013,
          2016,
          2019
         ],
         "xaxis": "x",
         "y": [
          41.88,
          41.94,
          46.4
         ],
         "yaxis": "y"
        },
        {
         "alignmentgroup": "True",
         "hovertemplate": "GEO=Northwest Territories<br>Year=%{x}<br>Maximum Wage (CAD)=%{text}<extra></extra>",
         "legendgroup": "Northwest Territories",
         "marker": {
          "color": "#00cc96",
          "line": {
           "color": "black",
           "width": 1.5
          },
          "pattern": {
           "shape": ""
          }
         },
         "name": "Northwest Territories",
         "offsetgroup": "Northwest Territories",
         "opacity": 0.85,
         "orientation": "v",
         "showlegend": true,
         "text": [
          55.04
         ],
         "textposition": "inside",
         "texttemplate": "%{text:.2f}",
         "type": "bar",
         "x": [
          2015
         ],
         "xaxis": "x",
         "y": [
          55.04
         ],
         "yaxis": "y"
        },
        {
         "alignmentgroup": "True",
         "hovertemplate": "GEO=British Columbia<br>Year=%{x}<br>Maximum Wage (CAD)=%{text}<extra></extra>",
         "legendgroup": "British Columbia",
         "marker": {
          "color": "#ab63fa",
          "line": {
           "color": "black",
           "width": 1.5
          },
          "pattern": {
           "shape": ""
          }
         },
         "name": "British Columbia",
         "offsetgroup": "British Columbia",
         "opacity": 0.85,
         "orientation": "v",
         "showlegend": true,
         "text": [
          50.07,
          48.96
         ],
         "textposition": "inside",
         "texttemplate": "%{text:.2f}",
         "type": "bar",
         "x": [
          2023,
          2022
         ],
         "xaxis": "x",
         "y": [
          50.07,
          48.96
         ],
         "yaxis": "y"
        },
        {
         "alignmentgroup": "True",
         "hovertemplate": "GEO=Newfoundland and Labrador<br>Year=%{x}<br>Maximum Wage (CAD)=%{text}<extra></extra>",
         "legendgroup": "Newfoundland and Labrador",
         "marker": {
          "color": "#FFA15A",
          "line": {
           "color": "black",
           "width": 1.5
          },
          "pattern": {
           "shape": ""
          }
         },
         "name": "Newfoundland and Labrador",
         "offsetgroup": "Newfoundland and Labrador",
         "opacity": 0.85,
         "orientation": "v",
         "showlegend": true,
         "text": [
          47.11
         ],
         "textposition": "inside",
         "texttemplate": "%{text:.2f}",
         "type": "bar",
         "x": [
          2020
         ],
         "xaxis": "x",
         "y": [
          47.11
         ],
         "yaxis": "y"
        }
       ],
       "layout": {
        "barmode": "relative",
        "hoverlabel": {
         "bgcolor": "white",
         "font": {
          "family": "Arial",
          "size": 14
         }
        },
        "legend": {
         "font": {
          "size": 14
         },
         "title": {
          "text": "GEO"
         },
         "tracegroupgap": 0
        },
        "margin": {
         "b": 50,
         "l": 50,
         "r": 50,
         "t": 70
        },
        "paper_bgcolor": "rgba(0,0,0,0)",
        "plot_bgcolor": "rgba(0,0,0,0)",
        "template": {
         "data": {
          "bar": [
           {
            "error_x": {
             "color": "#2a3f5f"
            },
            "error_y": {
             "color": "#2a3f5f"
            },
            "marker": {
             "line": {
              "color": "#E5ECF6",
              "width": 0.5
             },
             "pattern": {
              "fillmode": "overlay",
              "size": 10,
              "solidity": 0.2
             }
            },
            "type": "bar"
           }
          ],
          "barpolar": [
           {
            "marker": {
             "line": {
              "color": "#E5ECF6",
              "width": 0.5
             },
             "pattern": {
              "fillmode": "overlay",
              "size": 10,
              "solidity": 0.2
             }
            },
            "type": "barpolar"
           }
          ],
          "carpet": [
           {
            "aaxis": {
             "endlinecolor": "#2a3f5f",
             "gridcolor": "white",
             "linecolor": "white",
             "minorgridcolor": "white",
             "startlinecolor": "#2a3f5f"
            },
            "baxis": {
             "endlinecolor": "#2a3f5f",
             "gridcolor": "white",
             "linecolor": "white",
             "minorgridcolor": "white",
             "startlinecolor": "#2a3f5f"
            },
            "type": "carpet"
           }
          ],
          "choropleth": [
           {
            "colorbar": {
             "outlinewidth": 0,
             "ticks": ""
            },
            "type": "choropleth"
           }
          ],
          "contour": [
           {
            "colorbar": {
             "outlinewidth": 0,
             "ticks": ""
            },
            "colorscale": [
             [
              0,
              "#0d0887"
             ],
             [
              0.1111111111111111,
              "#46039f"
             ],
             [
              0.2222222222222222,
              "#7201a8"
             ],
             [
              0.3333333333333333,
              "#9c179e"
             ],
             [
              0.4444444444444444,
              "#bd3786"
             ],
             [
              0.5555555555555556,
              "#d8576b"
             ],
             [
              0.6666666666666666,
              "#ed7953"
             ],
             [
              0.7777777777777778,
              "#fb9f3a"
             ],
             [
              0.8888888888888888,
              "#fdca26"
             ],
             [
              1,
              "#f0f921"
             ]
            ],
            "type": "contour"
           }
          ],
          "contourcarpet": [
           {
            "colorbar": {
             "outlinewidth": 0,
             "ticks": ""
            },
            "type": "contourcarpet"
           }
          ],
          "heatmap": [
           {
            "colorbar": {
             "outlinewidth": 0,
             "ticks": ""
            },
            "colorscale": [
             [
              0,
              "#0d0887"
             ],
             [
              0.1111111111111111,
              "#46039f"
             ],
             [
              0.2222222222222222,
              "#7201a8"
             ],
             [
              0.3333333333333333,
              "#9c179e"
             ],
             [
              0.4444444444444444,
              "#bd3786"
             ],
             [
              0.5555555555555556,
              "#d8576b"
             ],
             [
              0.6666666666666666,
              "#ed7953"
             ],
             [
              0.7777777777777778,
              "#fb9f3a"
             ],
             [
              0.8888888888888888,
              "#fdca26"
             ],
             [
              1,
              "#f0f921"
             ]
            ],
            "type": "heatmap"
           }
          ],
          "heatmapgl": [
           {
            "colorbar": {
             "outlinewidth": 0,
             "ticks": ""
            },
            "colorscale": [
             [
              0,
              "#0d0887"
             ],
             [
              0.1111111111111111,
              "#46039f"
             ],
             [
              0.2222222222222222,
              "#7201a8"
             ],
             [
              0.3333333333333333,
              "#9c179e"
             ],
             [
              0.4444444444444444,
              "#bd3786"
             ],
             [
              0.5555555555555556,
              "#d8576b"
             ],
             [
              0.6666666666666666,
              "#ed7953"
             ],
             [
              0.7777777777777778,
              "#fb9f3a"
             ],
             [
              0.8888888888888888,
              "#fdca26"
             ],
             [
              1,
              "#f0f921"
             ]
            ],
            "type": "heatmapgl"
           }
          ],
          "histogram": [
           {
            "marker": {
             "pattern": {
              "fillmode": "overlay",
              "size": 10,
              "solidity": 0.2
             }
            },
            "type": "histogram"
           }
          ],
          "histogram2d": [
           {
            "colorbar": {
             "outlinewidth": 0,
             "ticks": ""
            },
            "colorscale": [
             [
              0,
              "#0d0887"
             ],
             [
              0.1111111111111111,
              "#46039f"
             ],
             [
              0.2222222222222222,
              "#7201a8"
             ],
             [
              0.3333333333333333,
              "#9c179e"
             ],
             [
              0.4444444444444444,
              "#bd3786"
             ],
             [
              0.5555555555555556,
              "#d8576b"
             ],
             [
              0.6666666666666666,
              "#ed7953"
             ],
             [
              0.7777777777777778,
              "#fb9f3a"
             ],
             [
              0.8888888888888888,
              "#fdca26"
             ],
             [
              1,
              "#f0f921"
             ]
            ],
            "type": "histogram2d"
           }
          ],
          "histogram2dcontour": [
           {
            "colorbar": {
             "outlinewidth": 0,
             "ticks": ""
            },
            "colorscale": [
             [
              0,
              "#0d0887"
             ],
             [
              0.1111111111111111,
              "#46039f"
             ],
             [
              0.2222222222222222,
              "#7201a8"
             ],
             [
              0.3333333333333333,
              "#9c179e"
             ],
             [
              0.4444444444444444,
              "#bd3786"
             ],
             [
              0.5555555555555556,
              "#d8576b"
             ],
             [
              0.6666666666666666,
              "#ed7953"
             ],
             [
              0.7777777777777778,
              "#fb9f3a"
             ],
             [
              0.8888888888888888,
              "#fdca26"
             ],
             [
              1,
              "#f0f921"
             ]
            ],
            "type": "histogram2dcontour"
           }
          ],
          "mesh3d": [
           {
            "colorbar": {
             "outlinewidth": 0,
             "ticks": ""
            },
            "type": "mesh3d"
           }
          ],
          "parcoords": [
           {
            "line": {
             "colorbar": {
              "outlinewidth": 0,
              "ticks": ""
             }
            },
            "type": "parcoords"
           }
          ],
          "pie": [
           {
            "automargin": true,
            "type": "pie"
           }
          ],
          "scatter": [
           {
            "fillpattern": {
             "fillmode": "overlay",
             "size": 10,
             "solidity": 0.2
            },
            "type": "scatter"
           }
          ],
          "scatter3d": [
           {
            "line": {
             "colorbar": {
              "outlinewidth": 0,
              "ticks": ""
             }
            },
            "marker": {
             "colorbar": {
              "outlinewidth": 0,
              "ticks": ""
             }
            },
            "type": "scatter3d"
           }
          ],
          "scattercarpet": [
           {
            "marker": {
             "colorbar": {
              "outlinewidth": 0,
              "ticks": ""
             }
            },
            "type": "scattercarpet"
           }
          ],
          "scattergeo": [
           {
            "marker": {
             "colorbar": {
              "outlinewidth": 0,
              "ticks": ""
             }
            },
            "type": "scattergeo"
           }
          ],
          "scattergl": [
           {
            "marker": {
             "colorbar": {
              "outlinewidth": 0,
              "ticks": ""
             }
            },
            "type": "scattergl"
           }
          ],
          "scattermapbox": [
           {
            "marker": {
             "colorbar": {
              "outlinewidth": 0,
              "ticks": ""
             }
            },
            "type": "scattermapbox"
           }
          ],
          "scatterpolar": [
           {
            "marker": {
             "colorbar": {
              "outlinewidth": 0,
              "ticks": ""
             }
            },
            "type": "scatterpolar"
           }
          ],
          "scatterpolargl": [
           {
            "marker": {
             "colorbar": {
              "outlinewidth": 0,
              "ticks": ""
             }
            },
            "type": "scatterpolargl"
           }
          ],
          "scatterternary": [
           {
            "marker": {
             "colorbar": {
              "outlinewidth": 0,
              "ticks": ""
             }
            },
            "type": "scatterternary"
           }
          ],
          "surface": [
           {
            "colorbar": {
             "outlinewidth": 0,
             "ticks": ""
            },
            "colorscale": [
             [
              0,
              "#0d0887"
             ],
             [
              0.1111111111111111,
              "#46039f"
             ],
             [
              0.2222222222222222,
              "#7201a8"
             ],
             [
              0.3333333333333333,
              "#9c179e"
             ],
             [
              0.4444444444444444,
              "#bd3786"
             ],
             [
              0.5555555555555556,
              "#d8576b"
             ],
             [
              0.6666666666666666,
              "#ed7953"
             ],
             [
              0.7777777777777778,
              "#fb9f3a"
             ],
             [
              0.8888888888888888,
              "#fdca26"
             ],
             [
              1,
              "#f0f921"
             ]
            ],
            "type": "surface"
           }
          ],
          "table": [
           {
            "cells": {
             "fill": {
              "color": "#EBF0F8"
             },
             "line": {
              "color": "white"
             }
            },
            "header": {
             "fill": {
              "color": "#C8D4E3"
             },
             "line": {
              "color": "white"
             }
            },
            "type": "table"
           }
          ]
         },
         "layout": {
          "annotationdefaults": {
           "arrowcolor": "#2a3f5f",
           "arrowhead": 0,
           "arrowwidth": 1
          },
          "autotypenumbers": "strict",
          "coloraxis": {
           "colorbar": {
            "outlinewidth": 0,
            "ticks": ""
           }
          },
          "colorscale": {
           "diverging": [
            [
             0,
             "#8e0152"
            ],
            [
             0.1,
             "#c51b7d"
            ],
            [
             0.2,
             "#de77ae"
            ],
            [
             0.3,
             "#f1b6da"
            ],
            [
             0.4,
             "#fde0ef"
            ],
            [
             0.5,
             "#f7f7f7"
            ],
            [
             0.6,
             "#e6f5d0"
            ],
            [
             0.7,
             "#b8e186"
            ],
            [
             0.8,
             "#7fbc41"
            ],
            [
             0.9,
             "#4d9221"
            ],
            [
             1,
             "#276419"
            ]
           ],
           "sequential": [
            [
             0,
             "#0d0887"
            ],
            [
             0.1111111111111111,
             "#46039f"
            ],
            [
             0.2222222222222222,
             "#7201a8"
            ],
            [
             0.3333333333333333,
             "#9c179e"
            ],
            [
             0.4444444444444444,
             "#bd3786"
            ],
            [
             0.5555555555555556,
             "#d8576b"
            ],
            [
             0.6666666666666666,
             "#ed7953"
            ],
            [
             0.7777777777777778,
             "#fb9f3a"
            ],
            [
             0.8888888888888888,
             "#fdca26"
            ],
            [
             1,
             "#f0f921"
            ]
           ],
           "sequentialminus": [
            [
             0,
             "#0d0887"
            ],
            [
             0.1111111111111111,
             "#46039f"
            ],
            [
             0.2222222222222222,
             "#7201a8"
            ],
            [
             0.3333333333333333,
             "#9c179e"
            ],
            [
             0.4444444444444444,
             "#bd3786"
            ],
            [
             0.5555555555555556,
             "#d8576b"
            ],
            [
             0.6666666666666666,
             "#ed7953"
            ],
            [
             0.7777777777777778,
             "#fb9f3a"
            ],
            [
             0.8888888888888888,
             "#fdca26"
            ],
            [
             1,
             "#f0f921"
            ]
           ]
          },
          "colorway": [
           "#636efa",
           "#EF553B",
           "#00cc96",
           "#ab63fa",
           "#FFA15A",
           "#19d3f3",
           "#FF6692",
           "#B6E880",
           "#FF97FF",
           "#FECB52"
          ],
          "font": {
           "color": "#2a3f5f"
          },
          "geo": {
           "bgcolor": "white",
           "lakecolor": "white",
           "landcolor": "#E5ECF6",
           "showlakes": true,
           "showland": true,
           "subunitcolor": "white"
          },
          "hoverlabel": {
           "align": "left"
          },
          "hovermode": "closest",
          "mapbox": {
           "style": "light"
          },
          "paper_bgcolor": "white",
          "plot_bgcolor": "#E5ECF6",
          "polar": {
           "angularaxis": {
            "gridcolor": "white",
            "linecolor": "white",
            "ticks": ""
           },
           "bgcolor": "#E5ECF6",
           "radialaxis": {
            "gridcolor": "white",
            "linecolor": "white",
            "ticks": ""
           }
          },
          "scene": {
           "xaxis": {
            "backgroundcolor": "#E5ECF6",
            "gridcolor": "white",
            "gridwidth": 2,
            "linecolor": "white",
            "showbackground": true,
            "ticks": "",
            "zerolinecolor": "white"
           },
           "yaxis": {
            "backgroundcolor": "#E5ECF6",
            "gridcolor": "white",
            "gridwidth": 2,
            "linecolor": "white",
            "showbackground": true,
            "ticks": "",
            "zerolinecolor": "white"
           },
           "zaxis": {
            "backgroundcolor": "#E5ECF6",
            "gridcolor": "white",
            "gridwidth": 2,
            "linecolor": "white",
            "showbackground": true,
            "ticks": "",
            "zerolinecolor": "white"
           }
          },
          "shapedefaults": {
           "line": {
            "color": "#2a3f5f"
           }
          },
          "ternary": {
           "aaxis": {
            "gridcolor": "white",
            "linecolor": "white",
            "ticks": ""
           },
           "baxis": {
            "gridcolor": "white",
            "linecolor": "white",
            "ticks": ""
           },
           "bgcolor": "#E5ECF6",
           "caxis": {
            "gridcolor": "white",
            "linecolor": "white",
            "ticks": ""
           }
          },
          "title": {
           "x": 0.05
          },
          "xaxis": {
           "automargin": true,
           "gridcolor": "white",
           "linecolor": "white",
           "ticks": "",
           "title": {
            "standoff": 15
           },
           "zerolinecolor": "white",
           "zerolinewidth": 2
          },
          "yaxis": {
           "automargin": true,
           "gridcolor": "white",
           "linecolor": "white",
           "ticks": "",
           "title": {
            "standoff": 15
           },
           "zerolinecolor": "white",
           "zerolinewidth": 2
          }
         }
        },
        "title": {
         "font": {
          "color": "black",
          "family": "Arial",
          "size": 24
         },
         "text": "Maximum Wage by Year, GEO, and Industry"
        },
        "xaxis": {
         "anchor": "y",
         "domain": [
          0,
          1
         ],
         "tickangle": -45,
         "tickmode": "linear",
         "tickvals": [
          2009,
          2013,
          2014,
          2015,
          2016,
          2017,
          2018,
          2019,
          2023,
          2010,
          2011,
          2012,
          2020,
          2021,
          2022
         ],
         "title": {
          "text": "Year"
         }
        },
        "yaxis": {
         "anchor": "x",
         "domain": [
          0,
          1
         ],
         "gridcolor": "gray",
         "gridwidth": 1,
         "range": [
          0,
          61.87319999999999
         ],
         "showgrid": true,
         "tickfont": {
          "size": 14
         },
         "title": {
          "text": "Maximum Wage (CAD)"
         }
        }
       }
      },
      "text/html": [
       "<div>                            <div id=\"9728f684-e4d7-4b69-8db9-72dca7823538\" class=\"plotly-graph-div\" style=\"height:525px; width:100%;\"></div>            <script type=\"text/javascript\">                require([\"plotly\"], function(Plotly) {                    window.PLOTLYENV=window.PLOTLYENV || {};                                    if (document.getElementById(\"9728f684-e4d7-4b69-8db9-72dca7823538\")) {                    Plotly.newPlot(                        \"9728f684-e4d7-4b69-8db9-72dca7823538\",                        [{\"alignmentgroup\":\"True\",\"hovertemplate\":\"GEO=Alberta<br>Year=%{x}<br>Maximum Wage (CAD)=%{text}<extra></extra>\",\"legendgroup\":\"Alberta\",\"marker\":{\"color\":\"#636efa\",\"pattern\":{\"shape\":\"\"},\"line\":{\"color\":\"black\",\"width\":1.5}},\"name\":\"Alberta\",\"offsetgroup\":\"Alberta\",\"orientation\":\"v\",\"showlegend\":true,\"text\":[46.83,46.27,47.88,43.6,35.51,36.69,48.18,47.89],\"textposition\":\"inside\",\"x\":[2009,2014,2017,2018,2010,2011,2012,2021],\"xaxis\":\"x\",\"y\":[46.83,46.27,47.88,43.6,35.51,36.69,48.18,47.89],\"yaxis\":\"y\",\"type\":\"bar\",\"opacity\":0.85,\"texttemplate\":\"%{text:.2f}\"},{\"alignmentgroup\":\"True\",\"hovertemplate\":\"GEO=Saskatchewan<br>Year=%{x}<br>Maximum Wage (CAD)=%{text}<extra></extra>\",\"legendgroup\":\"Saskatchewan\",\"marker\":{\"color\":\"#EF553B\",\"pattern\":{\"shape\":\"\"},\"line\":{\"color\":\"black\",\"width\":1.5}},\"name\":\"Saskatchewan\",\"offsetgroup\":\"Saskatchewan\",\"orientation\":\"v\",\"showlegend\":true,\"text\":[41.88,41.94,46.4],\"textposition\":\"inside\",\"x\":[2013,2016,2019],\"xaxis\":\"x\",\"y\":[41.88,41.94,46.4],\"yaxis\":\"y\",\"type\":\"bar\",\"opacity\":0.85,\"texttemplate\":\"%{text:.2f}\"},{\"alignmentgroup\":\"True\",\"hovertemplate\":\"GEO=Northwest Territories<br>Year=%{x}<br>Maximum Wage (CAD)=%{text}<extra></extra>\",\"legendgroup\":\"Northwest Territories\",\"marker\":{\"color\":\"#00cc96\",\"pattern\":{\"shape\":\"\"},\"line\":{\"color\":\"black\",\"width\":1.5}},\"name\":\"Northwest Territories\",\"offsetgroup\":\"Northwest Territories\",\"orientation\":\"v\",\"showlegend\":true,\"text\":[55.04],\"textposition\":\"inside\",\"x\":[2015],\"xaxis\":\"x\",\"y\":[55.04],\"yaxis\":\"y\",\"type\":\"bar\",\"opacity\":0.85,\"texttemplate\":\"%{text:.2f}\"},{\"alignmentgroup\":\"True\",\"hovertemplate\":\"GEO=British Columbia<br>Year=%{x}<br>Maximum Wage (CAD)=%{text}<extra></extra>\",\"legendgroup\":\"British Columbia\",\"marker\":{\"color\":\"#ab63fa\",\"pattern\":{\"shape\":\"\"},\"line\":{\"color\":\"black\",\"width\":1.5}},\"name\":\"British Columbia\",\"offsetgroup\":\"British Columbia\",\"orientation\":\"v\",\"showlegend\":true,\"text\":[50.07,48.96],\"textposition\":\"inside\",\"x\":[2023,2022],\"xaxis\":\"x\",\"y\":[50.07,48.96],\"yaxis\":\"y\",\"type\":\"bar\",\"opacity\":0.85,\"texttemplate\":\"%{text:.2f}\"},{\"alignmentgroup\":\"True\",\"hovertemplate\":\"GEO=Newfoundland and Labrador<br>Year=%{x}<br>Maximum Wage (CAD)=%{text}<extra></extra>\",\"legendgroup\":\"Newfoundland and Labrador\",\"marker\":{\"color\":\"#FFA15A\",\"pattern\":{\"shape\":\"\"},\"line\":{\"color\":\"black\",\"width\":1.5}},\"name\":\"Newfoundland and Labrador\",\"offsetgroup\":\"Newfoundland and Labrador\",\"orientation\":\"v\",\"showlegend\":true,\"text\":[47.11],\"textposition\":\"inside\",\"x\":[2020],\"xaxis\":\"x\",\"y\":[47.11],\"yaxis\":\"y\",\"type\":\"bar\",\"opacity\":0.85,\"texttemplate\":\"%{text:.2f}\"}],                        {\"template\":{\"data\":{\"histogram2dcontour\":[{\"type\":\"histogram2dcontour\",\"colorbar\":{\"outlinewidth\":0,\"ticks\":\"\"},\"colorscale\":[[0.0,\"#0d0887\"],[0.1111111111111111,\"#46039f\"],[0.2222222222222222,\"#7201a8\"],[0.3333333333333333,\"#9c179e\"],[0.4444444444444444,\"#bd3786\"],[0.5555555555555556,\"#d8576b\"],[0.6666666666666666,\"#ed7953\"],[0.7777777777777778,\"#fb9f3a\"],[0.8888888888888888,\"#fdca26\"],[1.0,\"#f0f921\"]]}],\"choropleth\":[{\"type\":\"choropleth\",\"colorbar\":{\"outlinewidth\":0,\"ticks\":\"\"}}],\"histogram2d\":[{\"type\":\"histogram2d\",\"colorbar\":{\"outlinewidth\":0,\"ticks\":\"\"},\"colorscale\":[[0.0,\"#0d0887\"],[0.1111111111111111,\"#46039f\"],[0.2222222222222222,\"#7201a8\"],[0.3333333333333333,\"#9c179e\"],[0.4444444444444444,\"#bd3786\"],[0.5555555555555556,\"#d8576b\"],[0.6666666666666666,\"#ed7953\"],[0.7777777777777778,\"#fb9f3a\"],[0.8888888888888888,\"#fdca26\"],[1.0,\"#f0f921\"]]}],\"heatmap\":[{\"type\":\"heatmap\",\"colorbar\":{\"outlinewidth\":0,\"ticks\":\"\"},\"colorscale\":[[0.0,\"#0d0887\"],[0.1111111111111111,\"#46039f\"],[0.2222222222222222,\"#7201a8\"],[0.3333333333333333,\"#9c179e\"],[0.4444444444444444,\"#bd3786\"],[0.5555555555555556,\"#d8576b\"],[0.6666666666666666,\"#ed7953\"],[0.7777777777777778,\"#fb9f3a\"],[0.8888888888888888,\"#fdca26\"],[1.0,\"#f0f921\"]]}],\"heatmapgl\":[{\"type\":\"heatmapgl\",\"colorbar\":{\"outlinewidth\":0,\"ticks\":\"\"},\"colorscale\":[[0.0,\"#0d0887\"],[0.1111111111111111,\"#46039f\"],[0.2222222222222222,\"#7201a8\"],[0.3333333333333333,\"#9c179e\"],[0.4444444444444444,\"#bd3786\"],[0.5555555555555556,\"#d8576b\"],[0.6666666666666666,\"#ed7953\"],[0.7777777777777778,\"#fb9f3a\"],[0.8888888888888888,\"#fdca26\"],[1.0,\"#f0f921\"]]}],\"contourcarpet\":[{\"type\":\"contourcarpet\",\"colorbar\":{\"outlinewidth\":0,\"ticks\":\"\"}}],\"contour\":[{\"type\":\"contour\",\"colorbar\":{\"outlinewidth\":0,\"ticks\":\"\"},\"colorscale\":[[0.0,\"#0d0887\"],[0.1111111111111111,\"#46039f\"],[0.2222222222222222,\"#7201a8\"],[0.3333333333333333,\"#9c179e\"],[0.4444444444444444,\"#bd3786\"],[0.5555555555555556,\"#d8576b\"],[0.6666666666666666,\"#ed7953\"],[0.7777777777777778,\"#fb9f3a\"],[0.8888888888888888,\"#fdca26\"],[1.0,\"#f0f921\"]]}],\"surface\":[{\"type\":\"surface\",\"colorbar\":{\"outlinewidth\":0,\"ticks\":\"\"},\"colorscale\":[[0.0,\"#0d0887\"],[0.1111111111111111,\"#46039f\"],[0.2222222222222222,\"#7201a8\"],[0.3333333333333333,\"#9c179e\"],[0.4444444444444444,\"#bd3786\"],[0.5555555555555556,\"#d8576b\"],[0.6666666666666666,\"#ed7953\"],[0.7777777777777778,\"#fb9f3a\"],[0.8888888888888888,\"#fdca26\"],[1.0,\"#f0f921\"]]}],\"mesh3d\":[{\"type\":\"mesh3d\",\"colorbar\":{\"outlinewidth\":0,\"ticks\":\"\"}}],\"scatter\":[{\"fillpattern\":{\"fillmode\":\"overlay\",\"size\":10,\"solidity\":0.2},\"type\":\"scatter\"}],\"parcoords\":[{\"type\":\"parcoords\",\"line\":{\"colorbar\":{\"outlinewidth\":0,\"ticks\":\"\"}}}],\"scatterpolargl\":[{\"type\":\"scatterpolargl\",\"marker\":{\"colorbar\":{\"outlinewidth\":0,\"ticks\":\"\"}}}],\"bar\":[{\"error_x\":{\"color\":\"#2a3f5f\"},\"error_y\":{\"color\":\"#2a3f5f\"},\"marker\":{\"line\":{\"color\":\"#E5ECF6\",\"width\":0.5},\"pattern\":{\"fillmode\":\"overlay\",\"size\":10,\"solidity\":0.2}},\"type\":\"bar\"}],\"scattergeo\":[{\"type\":\"scattergeo\",\"marker\":{\"colorbar\":{\"outlinewidth\":0,\"ticks\":\"\"}}}],\"scatterpolar\":[{\"type\":\"scatterpolar\",\"marker\":{\"colorbar\":{\"outlinewidth\":0,\"ticks\":\"\"}}}],\"histogram\":[{\"marker\":{\"pattern\":{\"fillmode\":\"overlay\",\"size\":10,\"solidity\":0.2}},\"type\":\"histogram\"}],\"scattergl\":[{\"type\":\"scattergl\",\"marker\":{\"colorbar\":{\"outlinewidth\":0,\"ticks\":\"\"}}}],\"scatter3d\":[{\"type\":\"scatter3d\",\"line\":{\"colorbar\":{\"outlinewidth\":0,\"ticks\":\"\"}},\"marker\":{\"colorbar\":{\"outlinewidth\":0,\"ticks\":\"\"}}}],\"scattermapbox\":[{\"type\":\"scattermapbox\",\"marker\":{\"colorbar\":{\"outlinewidth\":0,\"ticks\":\"\"}}}],\"scatterternary\":[{\"type\":\"scatterternary\",\"marker\":{\"colorbar\":{\"outlinewidth\":0,\"ticks\":\"\"}}}],\"scattercarpet\":[{\"type\":\"scattercarpet\",\"marker\":{\"colorbar\":{\"outlinewidth\":0,\"ticks\":\"\"}}}],\"carpet\":[{\"aaxis\":{\"endlinecolor\":\"#2a3f5f\",\"gridcolor\":\"white\",\"linecolor\":\"white\",\"minorgridcolor\":\"white\",\"startlinecolor\":\"#2a3f5f\"},\"baxis\":{\"endlinecolor\":\"#2a3f5f\",\"gridcolor\":\"white\",\"linecolor\":\"white\",\"minorgridcolor\":\"white\",\"startlinecolor\":\"#2a3f5f\"},\"type\":\"carpet\"}],\"table\":[{\"cells\":{\"fill\":{\"color\":\"#EBF0F8\"},\"line\":{\"color\":\"white\"}},\"header\":{\"fill\":{\"color\":\"#C8D4E3\"},\"line\":{\"color\":\"white\"}},\"type\":\"table\"}],\"barpolar\":[{\"marker\":{\"line\":{\"color\":\"#E5ECF6\",\"width\":0.5},\"pattern\":{\"fillmode\":\"overlay\",\"size\":10,\"solidity\":0.2}},\"type\":\"barpolar\"}],\"pie\":[{\"automargin\":true,\"type\":\"pie\"}]},\"layout\":{\"autotypenumbers\":\"strict\",\"colorway\":[\"#636efa\",\"#EF553B\",\"#00cc96\",\"#ab63fa\",\"#FFA15A\",\"#19d3f3\",\"#FF6692\",\"#B6E880\",\"#FF97FF\",\"#FECB52\"],\"font\":{\"color\":\"#2a3f5f\"},\"hovermode\":\"closest\",\"hoverlabel\":{\"align\":\"left\"},\"paper_bgcolor\":\"white\",\"plot_bgcolor\":\"#E5ECF6\",\"polar\":{\"bgcolor\":\"#E5ECF6\",\"angularaxis\":{\"gridcolor\":\"white\",\"linecolor\":\"white\",\"ticks\":\"\"},\"radialaxis\":{\"gridcolor\":\"white\",\"linecolor\":\"white\",\"ticks\":\"\"}},\"ternary\":{\"bgcolor\":\"#E5ECF6\",\"aaxis\":{\"gridcolor\":\"white\",\"linecolor\":\"white\",\"ticks\":\"\"},\"baxis\":{\"gridcolor\":\"white\",\"linecolor\":\"white\",\"ticks\":\"\"},\"caxis\":{\"gridcolor\":\"white\",\"linecolor\":\"white\",\"ticks\":\"\"}},\"coloraxis\":{\"colorbar\":{\"outlinewidth\":0,\"ticks\":\"\"}},\"colorscale\":{\"sequential\":[[0.0,\"#0d0887\"],[0.1111111111111111,\"#46039f\"],[0.2222222222222222,\"#7201a8\"],[0.3333333333333333,\"#9c179e\"],[0.4444444444444444,\"#bd3786\"],[0.5555555555555556,\"#d8576b\"],[0.6666666666666666,\"#ed7953\"],[0.7777777777777778,\"#fb9f3a\"],[0.8888888888888888,\"#fdca26\"],[1.0,\"#f0f921\"]],\"sequentialminus\":[[0.0,\"#0d0887\"],[0.1111111111111111,\"#46039f\"],[0.2222222222222222,\"#7201a8\"],[0.3333333333333333,\"#9c179e\"],[0.4444444444444444,\"#bd3786\"],[0.5555555555555556,\"#d8576b\"],[0.6666666666666666,\"#ed7953\"],[0.7777777777777778,\"#fb9f3a\"],[0.8888888888888888,\"#fdca26\"],[1.0,\"#f0f921\"]],\"diverging\":[[0,\"#8e0152\"],[0.1,\"#c51b7d\"],[0.2,\"#de77ae\"],[0.3,\"#f1b6da\"],[0.4,\"#fde0ef\"],[0.5,\"#f7f7f7\"],[0.6,\"#e6f5d0\"],[0.7,\"#b8e186\"],[0.8,\"#7fbc41\"],[0.9,\"#4d9221\"],[1,\"#276419\"]]},\"xaxis\":{\"gridcolor\":\"white\",\"linecolor\":\"white\",\"ticks\":\"\",\"title\":{\"standoff\":15},\"zerolinecolor\":\"white\",\"automargin\":true,\"zerolinewidth\":2},\"yaxis\":{\"gridcolor\":\"white\",\"linecolor\":\"white\",\"ticks\":\"\",\"title\":{\"standoff\":15},\"zerolinecolor\":\"white\",\"automargin\":true,\"zerolinewidth\":2},\"scene\":{\"xaxis\":{\"backgroundcolor\":\"#E5ECF6\",\"gridcolor\":\"white\",\"linecolor\":\"white\",\"showbackground\":true,\"ticks\":\"\",\"zerolinecolor\":\"white\",\"gridwidth\":2},\"yaxis\":{\"backgroundcolor\":\"#E5ECF6\",\"gridcolor\":\"white\",\"linecolor\":\"white\",\"showbackground\":true,\"ticks\":\"\",\"zerolinecolor\":\"white\",\"gridwidth\":2},\"zaxis\":{\"backgroundcolor\":\"#E5ECF6\",\"gridcolor\":\"white\",\"linecolor\":\"white\",\"showbackground\":true,\"ticks\":\"\",\"zerolinecolor\":\"white\",\"gridwidth\":2}},\"shapedefaults\":{\"line\":{\"color\":\"#2a3f5f\"}},\"annotationdefaults\":{\"arrowcolor\":\"#2a3f5f\",\"arrowhead\":0,\"arrowwidth\":1},\"geo\":{\"bgcolor\":\"white\",\"landcolor\":\"#E5ECF6\",\"subunitcolor\":\"white\",\"showland\":true,\"showlakes\":true,\"lakecolor\":\"white\"},\"title\":{\"x\":0.05},\"mapbox\":{\"style\":\"light\"}}},\"xaxis\":{\"anchor\":\"y\",\"domain\":[0.0,1.0],\"title\":{\"text\":\"Year\"},\"tickangle\":-45,\"tickmode\":\"linear\",\"tickvals\":[2009,2013,2014,2015,2016,2017,2018,2019,2023,2010,2011,2012,2020,2021,2022]},\"yaxis\":{\"anchor\":\"x\",\"domain\":[0.0,1.0],\"title\":{\"text\":\"Maximum Wage (CAD)\"},\"tickfont\":{\"size\":14},\"range\":[0,61.87319999999999],\"showgrid\":true,\"gridcolor\":\"gray\",\"gridwidth\":1},\"legend\":{\"title\":{\"text\":\"GEO\"},\"tracegroupgap\":0,\"font\":{\"size\":14}},\"title\":{\"text\":\"Maximum Wage by Year, GEO, and Industry\",\"font\":{\"size\":24,\"family\":\"Arial\",\"color\":\"black\"}},\"barmode\":\"relative\",\"margin\":{\"l\":50,\"r\":50,\"t\":70,\"b\":50},\"hoverlabel\":{\"font\":{\"size\":14,\"family\":\"Arial\"},\"bgcolor\":\"white\"},\"plot_bgcolor\":\"rgba(0,0,0,0)\",\"paper_bgcolor\":\"rgba(0,0,0,0)\"},                        {\"responsive\": true}                    ).then(function(){\n",
       "                            \n",
       "var gd = document.getElementById('9728f684-e4d7-4b69-8db9-72dca7823538');\n",
       "var x = new MutationObserver(function (mutations, observer) {{\n",
       "        var display = window.getComputedStyle(gd).display;\n",
       "        if (!display || display === 'none') {{\n",
       "            console.log([gd, 'removed!']);\n",
       "            Plotly.purge(gd);\n",
       "            observer.disconnect();\n",
       "        }}\n",
       "}});\n",
       "\n",
       "// Listen for the removal of the full notebook cells\n",
       "var notebookContainer = gd.closest('#notebook-container');\n",
       "if (notebookContainer) {{\n",
       "    x.observe(notebookContainer, {childList: true});\n",
       "}}\n",
       "\n",
       "// Listen for the clearing of the current output cell\n",
       "var outputEl = gd.closest('.output');\n",
       "if (outputEl) {{\n",
       "    x.observe(outputEl, {childList: true});\n",
       "}}\n",
       "\n",
       "                        })                };                });            </script>        </div>"
      ]
     },
     "metadata": {},
     "output_type": "display_data"
    }
   ],
   "source": [
    "import plotly.express as px\n",
    "\n",
    "# Create a bar plot using Plotly with improved aesthetics\n",
    "fig = px.bar(\n",
    "    wage_province_max_year,\n",
    "    x='YEAR',\n",
    "    y='max_wage_year',\n",
    "    title='Maximum Wage by Year, GEO, and Industry',\n",
    "    color='GEO',\n",
    "    text='max_wage_year',  # Show max wage inside the bars\n",
    "    labels={'max_wage_year': 'Maximum Wage (CAD)', 'YEAR': 'Year'},\n",
    ")\n",
    "\n",
    "# Customize bar appearance and add borders\n",
    "fig.update_traces(\n",
    "    texttemplate='%{text:.2f}', \n",
    "    textposition='inside',\n",
    "    marker=dict(line=dict(color='black', width=1.5)),  # Add borders to bars\n",
    "    opacity=0.85  # Slightly transparent for visual effect\n",
    ")\n",
    "\n",
    "# Limit y-axis to reduce the impact of a very large bar\n",
    "y_max = wage_province_max_year['max_wage_year'].quantile(0.95) * 1.2  # 95th percentile with buffer\n",
    "fig.update_yaxes(range=[0, y_max], title='Maximum Wage (CAD)', titlefont=dict(size=16), tickfont=dict(size=14))\n",
    "\n",
    "# Alternatively, uncomment the following line to use a logarithmic scale for the y-axis\n",
    "# fig.update_yaxes(type=\"log\", tickformat=\".0f\")  # Log scale for better readability with large value ranges\n",
    "\n",
    "# Further layout customization\n",
    "fig.update_layout(\n",
    "    title_font=dict(size=24, family='Arial', color='black'),  # Adjust title font and color\n",
    "    xaxis_title='Year',\n",
    "    yaxis_title='Maximum Wage (CAD)',\n",
    "    xaxis_tickangle=-45,  # Rotate x-axis labels for readability\n",
    "    xaxis=dict(\n",
    "        tickmode='linear',\n",
    "        tickvals=wage_province_max_year['YEAR'].unique()  # Ensure all years are shown\n",
    "    ),\n",
    "    legend_title_text='GEO',\n",
    "    legend=dict(font=dict(size=14)),\n",
    "    margin=dict(l=50, r=50, t=70, b=50),\n",
    "    hoverlabel=dict(bgcolor='white', font_size=14, font_family='Arial'),\n",
    "    plot_bgcolor='rgba(0,0,0,0)',  # Transparent background\n",
    "    paper_bgcolor='rgba(0,0,0,0)',  # Transparent paper background\n",
    ")\n",
    "\n",
    "# Add gridlines for y-axis\n",
    "fig.update_yaxes(showgrid=True, gridcolor='gray', gridwidth=1)\n",
    "\n",
    "# Show the plot\n",
    "fig.show()\n"
   ]
  },
  {
   "cell_type": "code",
   "execution_count": 35,
   "id": "ca326613",
   "metadata": {},
   "outputs": [
    {
     "name": "stderr",
     "output_type": "stream",
     "text": [
      "C:\\Users\\mahar\\AppData\\Local\\Temp\\ipykernel_44452\\1906296432.py:1: SettingWithCopyWarning:\n",
      "\n",
      "\n",
      "A value is trying to be set on a copy of a slice from a DataFrame.\n",
      "Try using .loc[row_indexer,col_indexer] = value instead\n",
      "\n",
      "See the caveats in the documentation: https://pandas.pydata.org/pandas-docs/stable/user_guide/indexing.html#returning-a-view-versus-a-copy\n",
      "\n"
     ]
    },
    {
     "data": {
      "text/html": [
       "<div>\n",
       "<style scoped>\n",
       "    .dataframe tbody tr th:only-of-type {\n",
       "        vertical-align: middle;\n",
       "    }\n",
       "\n",
       "    .dataframe tbody tr th {\n",
       "        vertical-align: top;\n",
       "    }\n",
       "\n",
       "    .dataframe thead th {\n",
       "        text-align: right;\n",
       "    }\n",
       "</style>\n",
       "<table border=\"1\" class=\"dataframe\">\n",
       "  <thead>\n",
       "    <tr style=\"text-align: right;\">\n",
       "      <th></th>\n",
       "      <th>YEAR</th>\n",
       "      <th>Industry (NAICS)</th>\n",
       "      <th>GEO</th>\n",
       "      <th>min_wage_year</th>\n",
       "    </tr>\n",
       "  </thead>\n",
       "  <tbody>\n",
       "    <tr>\n",
       "      <th>740</th>\n",
       "      <td>2009</td>\n",
       "      <td>Full-service restaurants and limited-service e...</td>\n",
       "      <td>Nova Scotia</td>\n",
       "      <td>10.50</td>\n",
       "    </tr>\n",
       "    <tr>\n",
       "      <th>2944</th>\n",
       "      <td>2010</td>\n",
       "      <td>Gasoline stations</td>\n",
       "      <td>New Brunswick</td>\n",
       "      <td>11.52</td>\n",
       "    </tr>\n",
       "    <tr>\n",
       "      <th>5825</th>\n",
       "      <td>2014</td>\n",
       "      <td>Full-service restaurants and limited-service e...</td>\n",
       "      <td>British Columbia</td>\n",
       "      <td>12.60</td>\n",
       "    </tr>\n",
       "    <tr>\n",
       "      <th>6591</th>\n",
       "      <td>2015</td>\n",
       "      <td>Food services and drinking places</td>\n",
       "      <td>Nova Scotia</td>\n",
       "      <td>12.62</td>\n",
       "    </tr>\n",
       "    <tr>\n",
       "      <th>9261</th>\n",
       "      <td>2016</td>\n",
       "      <td>Full-service restaurants and limited-service e...</td>\n",
       "      <td>Manitoba</td>\n",
       "      <td>13.06</td>\n",
       "    </tr>\n",
       "    <tr>\n",
       "      <th>11242</th>\n",
       "      <td>2017</td>\n",
       "      <td>Food services and drinking places</td>\n",
       "      <td>Manitoba</td>\n",
       "      <td>13.49</td>\n",
       "    </tr>\n",
       "    <tr>\n",
       "      <th>13266</th>\n",
       "      <td>2018</td>\n",
       "      <td>Full-service restaurants and limited-service e...</td>\n",
       "      <td>Manitoba</td>\n",
       "      <td>13.57</td>\n",
       "    </tr>\n",
       "    <tr>\n",
       "      <th>14384</th>\n",
       "      <td>2019</td>\n",
       "      <td>Full-service restaurants and limited-service e...</td>\n",
       "      <td>Newfoundland and Labrador</td>\n",
       "      <td>14.19</td>\n",
       "    </tr>\n",
       "    <tr>\n",
       "      <th>16638</th>\n",
       "      <td>2023</td>\n",
       "      <td>Food services and drinking places</td>\n",
       "      <td>Saskatchewan</td>\n",
       "      <td>16.58</td>\n",
       "    </tr>\n",
       "    <tr>\n",
       "      <th>18794</th>\n",
       "      <td>2011</td>\n",
       "      <td>Gasoline stations</td>\n",
       "      <td>Prince Edward Island</td>\n",
       "      <td>11.51</td>\n",
       "    </tr>\n",
       "    <tr>\n",
       "      <th>21465</th>\n",
       "      <td>2012</td>\n",
       "      <td>Full-service restaurants and limited-service e...</td>\n",
       "      <td>New Brunswick</td>\n",
       "      <td>12.16</td>\n",
       "    </tr>\n",
       "    <tr>\n",
       "      <th>22708</th>\n",
       "      <td>2012</td>\n",
       "      <td>Gasoline stations</td>\n",
       "      <td>British Columbia</td>\n",
       "      <td>12.16</td>\n",
       "    </tr>\n",
       "    <tr>\n",
       "      <th>24212</th>\n",
       "      <td>2013</td>\n",
       "      <td>Full-service restaurants and limited-service e...</td>\n",
       "      <td>Ontario</td>\n",
       "      <td>12.48</td>\n",
       "    </tr>\n",
       "    <tr>\n",
       "      <th>25701</th>\n",
       "      <td>2020</td>\n",
       "      <td>Accommodation and food services</td>\n",
       "      <td>Manitoba</td>\n",
       "      <td>14.78</td>\n",
       "    </tr>\n",
       "    <tr>\n",
       "      <th>27067</th>\n",
       "      <td>2021</td>\n",
       "      <td>Food services and drinking places</td>\n",
       "      <td>New Brunswick</td>\n",
       "      <td>14.81</td>\n",
       "    </tr>\n",
       "    <tr>\n",
       "      <th>29740</th>\n",
       "      <td>2022</td>\n",
       "      <td>Full-service restaurants and limited-service e...</td>\n",
       "      <td>Manitoba</td>\n",
       "      <td>15.21</td>\n",
       "    </tr>\n",
       "  </tbody>\n",
       "</table>\n",
       "</div>"
      ],
      "text/plain": [
       "       YEAR                                   Industry (NAICS)  \\\n",
       "740    2009  Full-service restaurants and limited-service e...   \n",
       "2944   2010                                 Gasoline stations    \n",
       "5825   2014  Full-service restaurants and limited-service e...   \n",
       "6591   2015                 Food services and drinking places    \n",
       "9261   2016  Full-service restaurants and limited-service e...   \n",
       "11242  2017                 Food services and drinking places    \n",
       "13266  2018  Full-service restaurants and limited-service e...   \n",
       "14384  2019  Full-service restaurants and limited-service e...   \n",
       "16638  2023                 Food services and drinking places    \n",
       "18794  2011                                 Gasoline stations    \n",
       "21465  2012  Full-service restaurants and limited-service e...   \n",
       "22708  2012                                 Gasoline stations    \n",
       "24212  2013  Full-service restaurants and limited-service e...   \n",
       "25701  2020                   Accommodation and food services    \n",
       "27067  2021                 Food services and drinking places    \n",
       "29740  2022  Full-service restaurants and limited-service e...   \n",
       "\n",
       "                             GEO  min_wage_year  \n",
       "740                  Nova Scotia          10.50  \n",
       "2944               New Brunswick          11.52  \n",
       "5825            British Columbia          12.60  \n",
       "6591                 Nova Scotia          12.62  \n",
       "9261                    Manitoba          13.06  \n",
       "11242                   Manitoba          13.49  \n",
       "13266                   Manitoba          13.57  \n",
       "14384  Newfoundland and Labrador          14.19  \n",
       "16638               Saskatchewan          16.58  \n",
       "18794       Prince Edward Island          11.51  \n",
       "21465              New Brunswick          12.16  \n",
       "22708           British Columbia          12.16  \n",
       "24212                    Ontario          12.48  \n",
       "25701                   Manitoba          14.78  \n",
       "27067              New Brunswick          14.81  \n",
       "29740                   Manitoba          15.21  "
      ]
     },
     "execution_count": 35,
     "metadata": {},
     "output_type": "execute_result"
    }
   ],
   "source": [
    "wage_province['min_wage_year'] = wage_province.groupby('YEAR')['Hourly Wage'].transform('min') #this is max_wage year wise\n",
    "wage_province_min_year = wage_province[wage_province['Hourly Wage'] == wage_province['min_wage_year']]\n",
    "wage_province_min_year = wage_province_min_year[['YEAR','Industry (NAICS)','GEO','min_wage_year']]\n",
    "wage_province_min_year = wage_province_min_year.drop_duplicates()\n",
    "wage_province_min_year"
   ]
  },
  {
   "cell_type": "code",
   "execution_count": 36,
   "id": "611045ae",
   "metadata": {},
   "outputs": [],
   "source": [
    " wage_province_min_year =  wage_province_min_year.sort_values('GEO').drop_duplicates(subset=['min_wage_year'], keep='first')"
   ]
  },
  {
   "cell_type": "code",
   "execution_count": 37,
   "id": "8a262b1c",
   "metadata": {},
   "outputs": [
    {
     "data": {
      "application/vnd.plotly.v1+json": {
       "config": {
        "plotlyServerURL": "https://plot.ly"
       },
       "data": [
        {
         "alignmentgroup": "True",
         "hovertemplate": "GEO=British Columbia<br>Year=%{x}<br>Minimum Wage (CAD)=%{text}<extra></extra>",
         "legendgroup": "British Columbia",
         "marker": {
          "color": "#636efa",
          "line": {
           "color": "black",
           "width": 1.5
          },
          "pattern": {
           "shape": ""
          }
         },
         "name": "British Columbia",
         "offsetgroup": "British Columbia",
         "opacity": 0.85,
         "orientation": "v",
         "showlegend": true,
         "text": [
          12.6,
          12.16
         ],
         "textposition": "inside",
         "texttemplate": "%{text:.2f}",
         "type": "bar",
         "x": [
          2014,
          2012
         ],
         "xaxis": "x",
         "y": [
          12.6,
          12.16
         ],
         "yaxis": "y"
        },
        {
         "alignmentgroup": "True",
         "hovertemplate": "GEO=Manitoba<br>Year=%{x}<br>Minimum Wage (CAD)=%{text}<extra></extra>",
         "legendgroup": "Manitoba",
         "marker": {
          "color": "#EF553B",
          "line": {
           "color": "black",
           "width": 1.5
          },
          "pattern": {
           "shape": ""
          }
         },
         "name": "Manitoba",
         "offsetgroup": "Manitoba",
         "opacity": 0.85,
         "orientation": "v",
         "showlegend": true,
         "text": [
          13.06,
          13.49,
          13.57,
          14.78,
          15.21
         ],
         "textposition": "inside",
         "texttemplate": "%{text:.2f}",
         "type": "bar",
         "x": [
          2016,
          2017,
          2018,
          2020,
          2022
         ],
         "xaxis": "x",
         "y": [
          13.06,
          13.49,
          13.57,
          14.78,
          15.21
         ],
         "yaxis": "y"
        },
        {
         "alignmentgroup": "True",
         "hovertemplate": "GEO=New Brunswick<br>Year=%{x}<br>Minimum Wage (CAD)=%{text}<extra></extra>",
         "legendgroup": "New Brunswick",
         "marker": {
          "color": "#00cc96",
          "line": {
           "color": "black",
           "width": 1.5
          },
          "pattern": {
           "shape": ""
          }
         },
         "name": "New Brunswick",
         "offsetgroup": "New Brunswick",
         "opacity": 0.85,
         "orientation": "v",
         "showlegend": true,
         "text": [
          11.52,
          14.81
         ],
         "textposition": "inside",
         "texttemplate": "%{text:.2f}",
         "type": "bar",
         "x": [
          2010,
          2021
         ],
         "xaxis": "x",
         "y": [
          11.52,
          14.81
         ],
         "yaxis": "y"
        },
        {
         "alignmentgroup": "True",
         "hovertemplate": "GEO=Newfoundland and Labrador<br>Year=%{x}<br>Minimum Wage (CAD)=%{text}<extra></extra>",
         "legendgroup": "Newfoundland and Labrador",
         "marker": {
          "color": "#ab63fa",
          "line": {
           "color": "black",
           "width": 1.5
          },
          "pattern": {
           "shape": ""
          }
         },
         "name": "Newfoundland and Labrador",
         "offsetgroup": "Newfoundland and Labrador",
         "opacity": 0.85,
         "orientation": "v",
         "showlegend": true,
         "text": [
          14.19
         ],
         "textposition": "inside",
         "texttemplate": "%{text:.2f}",
         "type": "bar",
         "x": [
          2019
         ],
         "xaxis": "x",
         "y": [
          14.19
         ],
         "yaxis": "y"
        },
        {
         "alignmentgroup": "True",
         "hovertemplate": "GEO=Nova Scotia<br>Year=%{x}<br>Minimum Wage (CAD)=%{text}<extra></extra>",
         "legendgroup": "Nova Scotia",
         "marker": {
          "color": "#FFA15A",
          "line": {
           "color": "black",
           "width": 1.5
          },
          "pattern": {
           "shape": ""
          }
         },
         "name": "Nova Scotia",
         "offsetgroup": "Nova Scotia",
         "opacity": 0.85,
         "orientation": "v",
         "showlegend": true,
         "text": [
          10.5,
          12.62
         ],
         "textposition": "inside",
         "texttemplate": "%{text:.2f}",
         "type": "bar",
         "x": [
          2009,
          2015
         ],
         "xaxis": "x",
         "y": [
          10.5,
          12.62
         ],
         "yaxis": "y"
        },
        {
         "alignmentgroup": "True",
         "hovertemplate": "GEO=Ontario<br>Year=%{x}<br>Minimum Wage (CAD)=%{text}<extra></extra>",
         "legendgroup": "Ontario",
         "marker": {
          "color": "#19d3f3",
          "line": {
           "color": "black",
           "width": 1.5
          },
          "pattern": {
           "shape": ""
          }
         },
         "name": "Ontario",
         "offsetgroup": "Ontario",
         "opacity": 0.85,
         "orientation": "v",
         "showlegend": true,
         "text": [
          12.48
         ],
         "textposition": "inside",
         "texttemplate": "%{text:.2f}",
         "type": "bar",
         "x": [
          2013
         ],
         "xaxis": "x",
         "y": [
          12.48
         ],
         "yaxis": "y"
        },
        {
         "alignmentgroup": "True",
         "hovertemplate": "GEO=Prince Edward Island<br>Year=%{x}<br>Minimum Wage (CAD)=%{text}<extra></extra>",
         "legendgroup": "Prince Edward Island",
         "marker": {
          "color": "#FF6692",
          "line": {
           "color": "black",
           "width": 1.5
          },
          "pattern": {
           "shape": ""
          }
         },
         "name": "Prince Edward Island",
         "offsetgroup": "Prince Edward Island",
         "opacity": 0.85,
         "orientation": "v",
         "showlegend": true,
         "text": [
          11.51
         ],
         "textposition": "inside",
         "texttemplate": "%{text:.2f}",
         "type": "bar",
         "x": [
          2011
         ],
         "xaxis": "x",
         "y": [
          11.51
         ],
         "yaxis": "y"
        },
        {
         "alignmentgroup": "True",
         "hovertemplate": "GEO=Saskatchewan<br>Year=%{x}<br>Minimum Wage (CAD)=%{text}<extra></extra>",
         "legendgroup": "Saskatchewan",
         "marker": {
          "color": "#B6E880",
          "line": {
           "color": "black",
           "width": 1.5
          },
          "pattern": {
           "shape": ""
          }
         },
         "name": "Saskatchewan",
         "offsetgroup": "Saskatchewan",
         "opacity": 0.85,
         "orientation": "v",
         "showlegend": true,
         "text": [
          16.58
         ],
         "textposition": "inside",
         "texttemplate": "%{text:.2f}",
         "type": "bar",
         "x": [
          2023
         ],
         "xaxis": "x",
         "y": [
          16.58
         ],
         "yaxis": "y"
        }
       ],
       "layout": {
        "barmode": "relative",
        "hoverlabel": {
         "bgcolor": "white",
         "font": {
          "family": "Arial",
          "size": 14
         }
        },
        "legend": {
         "font": {
          "size": 14
         },
         "title": {
          "text": "GEO"
         },
         "tracegroupgap": 0
        },
        "margin": {
         "b": 50,
         "l": 50,
         "r": 50,
         "t": 70
        },
        "paper_bgcolor": "rgba(0,0,0,0)",
        "plot_bgcolor": "rgba(0,0,0,0)",
        "template": {
         "data": {
          "bar": [
           {
            "error_x": {
             "color": "#2a3f5f"
            },
            "error_y": {
             "color": "#2a3f5f"
            },
            "marker": {
             "line": {
              "color": "#E5ECF6",
              "width": 0.5
             },
             "pattern": {
              "fillmode": "overlay",
              "size": 10,
              "solidity": 0.2
             }
            },
            "type": "bar"
           }
          ],
          "barpolar": [
           {
            "marker": {
             "line": {
              "color": "#E5ECF6",
              "width": 0.5
             },
             "pattern": {
              "fillmode": "overlay",
              "size": 10,
              "solidity": 0.2
             }
            },
            "type": "barpolar"
           }
          ],
          "carpet": [
           {
            "aaxis": {
             "endlinecolor": "#2a3f5f",
             "gridcolor": "white",
             "linecolor": "white",
             "minorgridcolor": "white",
             "startlinecolor": "#2a3f5f"
            },
            "baxis": {
             "endlinecolor": "#2a3f5f",
             "gridcolor": "white",
             "linecolor": "white",
             "minorgridcolor": "white",
             "startlinecolor": "#2a3f5f"
            },
            "type": "carpet"
           }
          ],
          "choropleth": [
           {
            "colorbar": {
             "outlinewidth": 0,
             "ticks": ""
            },
            "type": "choropleth"
           }
          ],
          "contour": [
           {
            "colorbar": {
             "outlinewidth": 0,
             "ticks": ""
            },
            "colorscale": [
             [
              0,
              "#0d0887"
             ],
             [
              0.1111111111111111,
              "#46039f"
             ],
             [
              0.2222222222222222,
              "#7201a8"
             ],
             [
              0.3333333333333333,
              "#9c179e"
             ],
             [
              0.4444444444444444,
              "#bd3786"
             ],
             [
              0.5555555555555556,
              "#d8576b"
             ],
             [
              0.6666666666666666,
              "#ed7953"
             ],
             [
              0.7777777777777778,
              "#fb9f3a"
             ],
             [
              0.8888888888888888,
              "#fdca26"
             ],
             [
              1,
              "#f0f921"
             ]
            ],
            "type": "contour"
           }
          ],
          "contourcarpet": [
           {
            "colorbar": {
             "outlinewidth": 0,
             "ticks": ""
            },
            "type": "contourcarpet"
           }
          ],
          "heatmap": [
           {
            "colorbar": {
             "outlinewidth": 0,
             "ticks": ""
            },
            "colorscale": [
             [
              0,
              "#0d0887"
             ],
             [
              0.1111111111111111,
              "#46039f"
             ],
             [
              0.2222222222222222,
              "#7201a8"
             ],
             [
              0.3333333333333333,
              "#9c179e"
             ],
             [
              0.4444444444444444,
              "#bd3786"
             ],
             [
              0.5555555555555556,
              "#d8576b"
             ],
             [
              0.6666666666666666,
              "#ed7953"
             ],
             [
              0.7777777777777778,
              "#fb9f3a"
             ],
             [
              0.8888888888888888,
              "#fdca26"
             ],
             [
              1,
              "#f0f921"
             ]
            ],
            "type": "heatmap"
           }
          ],
          "heatmapgl": [
           {
            "colorbar": {
             "outlinewidth": 0,
             "ticks": ""
            },
            "colorscale": [
             [
              0,
              "#0d0887"
             ],
             [
              0.1111111111111111,
              "#46039f"
             ],
             [
              0.2222222222222222,
              "#7201a8"
             ],
             [
              0.3333333333333333,
              "#9c179e"
             ],
             [
              0.4444444444444444,
              "#bd3786"
             ],
             [
              0.5555555555555556,
              "#d8576b"
             ],
             [
              0.6666666666666666,
              "#ed7953"
             ],
             [
              0.7777777777777778,
              "#fb9f3a"
             ],
             [
              0.8888888888888888,
              "#fdca26"
             ],
             [
              1,
              "#f0f921"
             ]
            ],
            "type": "heatmapgl"
           }
          ],
          "histogram": [
           {
            "marker": {
             "pattern": {
              "fillmode": "overlay",
              "size": 10,
              "solidity": 0.2
             }
            },
            "type": "histogram"
           }
          ],
          "histogram2d": [
           {
            "colorbar": {
             "outlinewidth": 0,
             "ticks": ""
            },
            "colorscale": [
             [
              0,
              "#0d0887"
             ],
             [
              0.1111111111111111,
              "#46039f"
             ],
             [
              0.2222222222222222,
              "#7201a8"
             ],
             [
              0.3333333333333333,
              "#9c179e"
             ],
             [
              0.4444444444444444,
              "#bd3786"
             ],
             [
              0.5555555555555556,
              "#d8576b"
             ],
             [
              0.6666666666666666,
              "#ed7953"
             ],
             [
              0.7777777777777778,
              "#fb9f3a"
             ],
             [
              0.8888888888888888,
              "#fdca26"
             ],
             [
              1,
              "#f0f921"
             ]
            ],
            "type": "histogram2d"
           }
          ],
          "histogram2dcontour": [
           {
            "colorbar": {
             "outlinewidth": 0,
             "ticks": ""
            },
            "colorscale": [
             [
              0,
              "#0d0887"
             ],
             [
              0.1111111111111111,
              "#46039f"
             ],
             [
              0.2222222222222222,
              "#7201a8"
             ],
             [
              0.3333333333333333,
              "#9c179e"
             ],
             [
              0.4444444444444444,
              "#bd3786"
             ],
             [
              0.5555555555555556,
              "#d8576b"
             ],
             [
              0.6666666666666666,
              "#ed7953"
             ],
             [
              0.7777777777777778,
              "#fb9f3a"
             ],
             [
              0.8888888888888888,
              "#fdca26"
             ],
             [
              1,
              "#f0f921"
             ]
            ],
            "type": "histogram2dcontour"
           }
          ],
          "mesh3d": [
           {
            "colorbar": {
             "outlinewidth": 0,
             "ticks": ""
            },
            "type": "mesh3d"
           }
          ],
          "parcoords": [
           {
            "line": {
             "colorbar": {
              "outlinewidth": 0,
              "ticks": ""
             }
            },
            "type": "parcoords"
           }
          ],
          "pie": [
           {
            "automargin": true,
            "type": "pie"
           }
          ],
          "scatter": [
           {
            "fillpattern": {
             "fillmode": "overlay",
             "size": 10,
             "solidity": 0.2
            },
            "type": "scatter"
           }
          ],
          "scatter3d": [
           {
            "line": {
             "colorbar": {
              "outlinewidth": 0,
              "ticks": ""
             }
            },
            "marker": {
             "colorbar": {
              "outlinewidth": 0,
              "ticks": ""
             }
            },
            "type": "scatter3d"
           }
          ],
          "scattercarpet": [
           {
            "marker": {
             "colorbar": {
              "outlinewidth": 0,
              "ticks": ""
             }
            },
            "type": "scattercarpet"
           }
          ],
          "scattergeo": [
           {
            "marker": {
             "colorbar": {
              "outlinewidth": 0,
              "ticks": ""
             }
            },
            "type": "scattergeo"
           }
          ],
          "scattergl": [
           {
            "marker": {
             "colorbar": {
              "outlinewidth": 0,
              "ticks": ""
             }
            },
            "type": "scattergl"
           }
          ],
          "scattermapbox": [
           {
            "marker": {
             "colorbar": {
              "outlinewidth": 0,
              "ticks": ""
             }
            },
            "type": "scattermapbox"
           }
          ],
          "scatterpolar": [
           {
            "marker": {
             "colorbar": {
              "outlinewidth": 0,
              "ticks": ""
             }
            },
            "type": "scatterpolar"
           }
          ],
          "scatterpolargl": [
           {
            "marker": {
             "colorbar": {
              "outlinewidth": 0,
              "ticks": ""
             }
            },
            "type": "scatterpolargl"
           }
          ],
          "scatterternary": [
           {
            "marker": {
             "colorbar": {
              "outlinewidth": 0,
              "ticks": ""
             }
            },
            "type": "scatterternary"
           }
          ],
          "surface": [
           {
            "colorbar": {
             "outlinewidth": 0,
             "ticks": ""
            },
            "colorscale": [
             [
              0,
              "#0d0887"
             ],
             [
              0.1111111111111111,
              "#46039f"
             ],
             [
              0.2222222222222222,
              "#7201a8"
             ],
             [
              0.3333333333333333,
              "#9c179e"
             ],
             [
              0.4444444444444444,
              "#bd3786"
             ],
             [
              0.5555555555555556,
              "#d8576b"
             ],
             [
              0.6666666666666666,
              "#ed7953"
             ],
             [
              0.7777777777777778,
              "#fb9f3a"
             ],
             [
              0.8888888888888888,
              "#fdca26"
             ],
             [
              1,
              "#f0f921"
             ]
            ],
            "type": "surface"
           }
          ],
          "table": [
           {
            "cells": {
             "fill": {
              "color": "#EBF0F8"
             },
             "line": {
              "color": "white"
             }
            },
            "header": {
             "fill": {
              "color": "#C8D4E3"
             },
             "line": {
              "color": "white"
             }
            },
            "type": "table"
           }
          ]
         },
         "layout": {
          "annotationdefaults": {
           "arrowcolor": "#2a3f5f",
           "arrowhead": 0,
           "arrowwidth": 1
          },
          "autotypenumbers": "strict",
          "coloraxis": {
           "colorbar": {
            "outlinewidth": 0,
            "ticks": ""
           }
          },
          "colorscale": {
           "diverging": [
            [
             0,
             "#8e0152"
            ],
            [
             0.1,
             "#c51b7d"
            ],
            [
             0.2,
             "#de77ae"
            ],
            [
             0.3,
             "#f1b6da"
            ],
            [
             0.4,
             "#fde0ef"
            ],
            [
             0.5,
             "#f7f7f7"
            ],
            [
             0.6,
             "#e6f5d0"
            ],
            [
             0.7,
             "#b8e186"
            ],
            [
             0.8,
             "#7fbc41"
            ],
            [
             0.9,
             "#4d9221"
            ],
            [
             1,
             "#276419"
            ]
           ],
           "sequential": [
            [
             0,
             "#0d0887"
            ],
            [
             0.1111111111111111,
             "#46039f"
            ],
            [
             0.2222222222222222,
             "#7201a8"
            ],
            [
             0.3333333333333333,
             "#9c179e"
            ],
            [
             0.4444444444444444,
             "#bd3786"
            ],
            [
             0.5555555555555556,
             "#d8576b"
            ],
            [
             0.6666666666666666,
             "#ed7953"
            ],
            [
             0.7777777777777778,
             "#fb9f3a"
            ],
            [
             0.8888888888888888,
             "#fdca26"
            ],
            [
             1,
             "#f0f921"
            ]
           ],
           "sequentialminus": [
            [
             0,
             "#0d0887"
            ],
            [
             0.1111111111111111,
             "#46039f"
            ],
            [
             0.2222222222222222,
             "#7201a8"
            ],
            [
             0.3333333333333333,
             "#9c179e"
            ],
            [
             0.4444444444444444,
             "#bd3786"
            ],
            [
             0.5555555555555556,
             "#d8576b"
            ],
            [
             0.6666666666666666,
             "#ed7953"
            ],
            [
             0.7777777777777778,
             "#fb9f3a"
            ],
            [
             0.8888888888888888,
             "#fdca26"
            ],
            [
             1,
             "#f0f921"
            ]
           ]
          },
          "colorway": [
           "#636efa",
           "#EF553B",
           "#00cc96",
           "#ab63fa",
           "#FFA15A",
           "#19d3f3",
           "#FF6692",
           "#B6E880",
           "#FF97FF",
           "#FECB52"
          ],
          "font": {
           "color": "#2a3f5f"
          },
          "geo": {
           "bgcolor": "white",
           "lakecolor": "white",
           "landcolor": "#E5ECF6",
           "showlakes": true,
           "showland": true,
           "subunitcolor": "white"
          },
          "hoverlabel": {
           "align": "left"
          },
          "hovermode": "closest",
          "mapbox": {
           "style": "light"
          },
          "paper_bgcolor": "white",
          "plot_bgcolor": "#E5ECF6",
          "polar": {
           "angularaxis": {
            "gridcolor": "white",
            "linecolor": "white",
            "ticks": ""
           },
           "bgcolor": "#E5ECF6",
           "radialaxis": {
            "gridcolor": "white",
            "linecolor": "white",
            "ticks": ""
           }
          },
          "scene": {
           "xaxis": {
            "backgroundcolor": "#E5ECF6",
            "gridcolor": "white",
            "gridwidth": 2,
            "linecolor": "white",
            "showbackground": true,
            "ticks": "",
            "zerolinecolor": "white"
           },
           "yaxis": {
            "backgroundcolor": "#E5ECF6",
            "gridcolor": "white",
            "gridwidth": 2,
            "linecolor": "white",
            "showbackground": true,
            "ticks": "",
            "zerolinecolor": "white"
           },
           "zaxis": {
            "backgroundcolor": "#E5ECF6",
            "gridcolor": "white",
            "gridwidth": 2,
            "linecolor": "white",
            "showbackground": true,
            "ticks": "",
            "zerolinecolor": "white"
           }
          },
          "shapedefaults": {
           "line": {
            "color": "#2a3f5f"
           }
          },
          "ternary": {
           "aaxis": {
            "gridcolor": "white",
            "linecolor": "white",
            "ticks": ""
           },
           "baxis": {
            "gridcolor": "white",
            "linecolor": "white",
            "ticks": ""
           },
           "bgcolor": "#E5ECF6",
           "caxis": {
            "gridcolor": "white",
            "linecolor": "white",
            "ticks": ""
           }
          },
          "title": {
           "x": 0.05
          },
          "xaxis": {
           "automargin": true,
           "gridcolor": "white",
           "linecolor": "white",
           "ticks": "",
           "title": {
            "standoff": 15
           },
           "zerolinecolor": "white",
           "zerolinewidth": 2
          },
          "yaxis": {
           "automargin": true,
           "gridcolor": "white",
           "linecolor": "white",
           "ticks": "",
           "title": {
            "standoff": 15
           },
           "zerolinecolor": "white",
           "zerolinewidth": 2
          }
         }
        },
        "title": {
         "font": {
          "color": "black",
          "family": "Arial",
          "size": 24
         },
         "text": "Minimum Wage by Year, and GEO"
        },
        "xaxis": {
         "anchor": "y",
         "domain": [
          0,
          1
         ],
         "tickangle": -45,
         "tickmode": "linear",
         "tickvals": [
          2014,
          2012,
          2016,
          2017,
          2018,
          2020,
          2022,
          2010,
          2021,
          2019,
          2009,
          2015,
          2013,
          2011,
          2023
         ],
         "title": {
          "text": "Year"
         }
        },
        "yaxis": {
         "anchor": "x",
         "domain": [
          0,
          1
         ],
         "gridcolor": "gray",
         "gridwidth": 1,
         "showgrid": true,
         "tickfont": {
          "size": 14
         },
         "title": {
          "font": {
           "size": 16
          },
          "text": "Minimum Wage (CAD)"
         }
        }
       }
      },
      "text/html": [
       "<div>                            <div id=\"991c8752-368c-40b9-837c-632da43fe060\" class=\"plotly-graph-div\" style=\"height:525px; width:100%;\"></div>            <script type=\"text/javascript\">                require([\"plotly\"], function(Plotly) {                    window.PLOTLYENV=window.PLOTLYENV || {};                                    if (document.getElementById(\"991c8752-368c-40b9-837c-632da43fe060\")) {                    Plotly.newPlot(                        \"991c8752-368c-40b9-837c-632da43fe060\",                        [{\"alignmentgroup\":\"True\",\"hovertemplate\":\"GEO=British Columbia<br>Year=%{x}<br>Minimum Wage (CAD)=%{text}<extra></extra>\",\"legendgroup\":\"British Columbia\",\"marker\":{\"color\":\"#636efa\",\"pattern\":{\"shape\":\"\"},\"line\":{\"color\":\"black\",\"width\":1.5}},\"name\":\"British Columbia\",\"offsetgroup\":\"British Columbia\",\"orientation\":\"v\",\"showlegend\":true,\"text\":[12.6,12.16],\"textposition\":\"inside\",\"x\":[2014,2012],\"xaxis\":\"x\",\"y\":[12.6,12.16],\"yaxis\":\"y\",\"type\":\"bar\",\"opacity\":0.85,\"texttemplate\":\"%{text:.2f}\"},{\"alignmentgroup\":\"True\",\"hovertemplate\":\"GEO=Manitoba<br>Year=%{x}<br>Minimum Wage (CAD)=%{text}<extra></extra>\",\"legendgroup\":\"Manitoba\",\"marker\":{\"color\":\"#EF553B\",\"pattern\":{\"shape\":\"\"},\"line\":{\"color\":\"black\",\"width\":1.5}},\"name\":\"Manitoba\",\"offsetgroup\":\"Manitoba\",\"orientation\":\"v\",\"showlegend\":true,\"text\":[13.06,13.49,13.57,14.78,15.21],\"textposition\":\"inside\",\"x\":[2016,2017,2018,2020,2022],\"xaxis\":\"x\",\"y\":[13.06,13.49,13.57,14.78,15.21],\"yaxis\":\"y\",\"type\":\"bar\",\"opacity\":0.85,\"texttemplate\":\"%{text:.2f}\"},{\"alignmentgroup\":\"True\",\"hovertemplate\":\"GEO=New Brunswick<br>Year=%{x}<br>Minimum Wage (CAD)=%{text}<extra></extra>\",\"legendgroup\":\"New Brunswick\",\"marker\":{\"color\":\"#00cc96\",\"pattern\":{\"shape\":\"\"},\"line\":{\"color\":\"black\",\"width\":1.5}},\"name\":\"New Brunswick\",\"offsetgroup\":\"New Brunswick\",\"orientation\":\"v\",\"showlegend\":true,\"text\":[11.52,14.81],\"textposition\":\"inside\",\"x\":[2010,2021],\"xaxis\":\"x\",\"y\":[11.52,14.81],\"yaxis\":\"y\",\"type\":\"bar\",\"opacity\":0.85,\"texttemplate\":\"%{text:.2f}\"},{\"alignmentgroup\":\"True\",\"hovertemplate\":\"GEO=Newfoundland and Labrador<br>Year=%{x}<br>Minimum Wage (CAD)=%{text}<extra></extra>\",\"legendgroup\":\"Newfoundland and Labrador\",\"marker\":{\"color\":\"#ab63fa\",\"pattern\":{\"shape\":\"\"},\"line\":{\"color\":\"black\",\"width\":1.5}},\"name\":\"Newfoundland and Labrador\",\"offsetgroup\":\"Newfoundland and Labrador\",\"orientation\":\"v\",\"showlegend\":true,\"text\":[14.19],\"textposition\":\"inside\",\"x\":[2019],\"xaxis\":\"x\",\"y\":[14.19],\"yaxis\":\"y\",\"type\":\"bar\",\"opacity\":0.85,\"texttemplate\":\"%{text:.2f}\"},{\"alignmentgroup\":\"True\",\"hovertemplate\":\"GEO=Nova Scotia<br>Year=%{x}<br>Minimum Wage (CAD)=%{text}<extra></extra>\",\"legendgroup\":\"Nova Scotia\",\"marker\":{\"color\":\"#FFA15A\",\"pattern\":{\"shape\":\"\"},\"line\":{\"color\":\"black\",\"width\":1.5}},\"name\":\"Nova Scotia\",\"offsetgroup\":\"Nova Scotia\",\"orientation\":\"v\",\"showlegend\":true,\"text\":[10.5,12.62],\"textposition\":\"inside\",\"x\":[2009,2015],\"xaxis\":\"x\",\"y\":[10.5,12.62],\"yaxis\":\"y\",\"type\":\"bar\",\"opacity\":0.85,\"texttemplate\":\"%{text:.2f}\"},{\"alignmentgroup\":\"True\",\"hovertemplate\":\"GEO=Ontario<br>Year=%{x}<br>Minimum Wage (CAD)=%{text}<extra></extra>\",\"legendgroup\":\"Ontario\",\"marker\":{\"color\":\"#19d3f3\",\"pattern\":{\"shape\":\"\"},\"line\":{\"color\":\"black\",\"width\":1.5}},\"name\":\"Ontario\",\"offsetgroup\":\"Ontario\",\"orientation\":\"v\",\"showlegend\":true,\"text\":[12.48],\"textposition\":\"inside\",\"x\":[2013],\"xaxis\":\"x\",\"y\":[12.48],\"yaxis\":\"y\",\"type\":\"bar\",\"opacity\":0.85,\"texttemplate\":\"%{text:.2f}\"},{\"alignmentgroup\":\"True\",\"hovertemplate\":\"GEO=Prince Edward Island<br>Year=%{x}<br>Minimum Wage (CAD)=%{text}<extra></extra>\",\"legendgroup\":\"Prince Edward Island\",\"marker\":{\"color\":\"#FF6692\",\"pattern\":{\"shape\":\"\"},\"line\":{\"color\":\"black\",\"width\":1.5}},\"name\":\"Prince Edward Island\",\"offsetgroup\":\"Prince Edward Island\",\"orientation\":\"v\",\"showlegend\":true,\"text\":[11.51],\"textposition\":\"inside\",\"x\":[2011],\"xaxis\":\"x\",\"y\":[11.51],\"yaxis\":\"y\",\"type\":\"bar\",\"opacity\":0.85,\"texttemplate\":\"%{text:.2f}\"},{\"alignmentgroup\":\"True\",\"hovertemplate\":\"GEO=Saskatchewan<br>Year=%{x}<br>Minimum Wage (CAD)=%{text}<extra></extra>\",\"legendgroup\":\"Saskatchewan\",\"marker\":{\"color\":\"#B6E880\",\"pattern\":{\"shape\":\"\"},\"line\":{\"color\":\"black\",\"width\":1.5}},\"name\":\"Saskatchewan\",\"offsetgroup\":\"Saskatchewan\",\"orientation\":\"v\",\"showlegend\":true,\"text\":[16.58],\"textposition\":\"inside\",\"x\":[2023],\"xaxis\":\"x\",\"y\":[16.58],\"yaxis\":\"y\",\"type\":\"bar\",\"opacity\":0.85,\"texttemplate\":\"%{text:.2f}\"}],                        {\"template\":{\"data\":{\"histogram2dcontour\":[{\"type\":\"histogram2dcontour\",\"colorbar\":{\"outlinewidth\":0,\"ticks\":\"\"},\"colorscale\":[[0.0,\"#0d0887\"],[0.1111111111111111,\"#46039f\"],[0.2222222222222222,\"#7201a8\"],[0.3333333333333333,\"#9c179e\"],[0.4444444444444444,\"#bd3786\"],[0.5555555555555556,\"#d8576b\"],[0.6666666666666666,\"#ed7953\"],[0.7777777777777778,\"#fb9f3a\"],[0.8888888888888888,\"#fdca26\"],[1.0,\"#f0f921\"]]}],\"choropleth\":[{\"type\":\"choropleth\",\"colorbar\":{\"outlinewidth\":0,\"ticks\":\"\"}}],\"histogram2d\":[{\"type\":\"histogram2d\",\"colorbar\":{\"outlinewidth\":0,\"ticks\":\"\"},\"colorscale\":[[0.0,\"#0d0887\"],[0.1111111111111111,\"#46039f\"],[0.2222222222222222,\"#7201a8\"],[0.3333333333333333,\"#9c179e\"],[0.4444444444444444,\"#bd3786\"],[0.5555555555555556,\"#d8576b\"],[0.6666666666666666,\"#ed7953\"],[0.7777777777777778,\"#fb9f3a\"],[0.8888888888888888,\"#fdca26\"],[1.0,\"#f0f921\"]]}],\"heatmap\":[{\"type\":\"heatmap\",\"colorbar\":{\"outlinewidth\":0,\"ticks\":\"\"},\"colorscale\":[[0.0,\"#0d0887\"],[0.1111111111111111,\"#46039f\"],[0.2222222222222222,\"#7201a8\"],[0.3333333333333333,\"#9c179e\"],[0.4444444444444444,\"#bd3786\"],[0.5555555555555556,\"#d8576b\"],[0.6666666666666666,\"#ed7953\"],[0.7777777777777778,\"#fb9f3a\"],[0.8888888888888888,\"#fdca26\"],[1.0,\"#f0f921\"]]}],\"heatmapgl\":[{\"type\":\"heatmapgl\",\"colorbar\":{\"outlinewidth\":0,\"ticks\":\"\"},\"colorscale\":[[0.0,\"#0d0887\"],[0.1111111111111111,\"#46039f\"],[0.2222222222222222,\"#7201a8\"],[0.3333333333333333,\"#9c179e\"],[0.4444444444444444,\"#bd3786\"],[0.5555555555555556,\"#d8576b\"],[0.6666666666666666,\"#ed7953\"],[0.7777777777777778,\"#fb9f3a\"],[0.8888888888888888,\"#fdca26\"],[1.0,\"#f0f921\"]]}],\"contourcarpet\":[{\"type\":\"contourcarpet\",\"colorbar\":{\"outlinewidth\":0,\"ticks\":\"\"}}],\"contour\":[{\"type\":\"contour\",\"colorbar\":{\"outlinewidth\":0,\"ticks\":\"\"},\"colorscale\":[[0.0,\"#0d0887\"],[0.1111111111111111,\"#46039f\"],[0.2222222222222222,\"#7201a8\"],[0.3333333333333333,\"#9c179e\"],[0.4444444444444444,\"#bd3786\"],[0.5555555555555556,\"#d8576b\"],[0.6666666666666666,\"#ed7953\"],[0.7777777777777778,\"#fb9f3a\"],[0.8888888888888888,\"#fdca26\"],[1.0,\"#f0f921\"]]}],\"surface\":[{\"type\":\"surface\",\"colorbar\":{\"outlinewidth\":0,\"ticks\":\"\"},\"colorscale\":[[0.0,\"#0d0887\"],[0.1111111111111111,\"#46039f\"],[0.2222222222222222,\"#7201a8\"],[0.3333333333333333,\"#9c179e\"],[0.4444444444444444,\"#bd3786\"],[0.5555555555555556,\"#d8576b\"],[0.6666666666666666,\"#ed7953\"],[0.7777777777777778,\"#fb9f3a\"],[0.8888888888888888,\"#fdca26\"],[1.0,\"#f0f921\"]]}],\"mesh3d\":[{\"type\":\"mesh3d\",\"colorbar\":{\"outlinewidth\":0,\"ticks\":\"\"}}],\"scatter\":[{\"fillpattern\":{\"fillmode\":\"overlay\",\"size\":10,\"solidity\":0.2},\"type\":\"scatter\"}],\"parcoords\":[{\"type\":\"parcoords\",\"line\":{\"colorbar\":{\"outlinewidth\":0,\"ticks\":\"\"}}}],\"scatterpolargl\":[{\"type\":\"scatterpolargl\",\"marker\":{\"colorbar\":{\"outlinewidth\":0,\"ticks\":\"\"}}}],\"bar\":[{\"error_x\":{\"color\":\"#2a3f5f\"},\"error_y\":{\"color\":\"#2a3f5f\"},\"marker\":{\"line\":{\"color\":\"#E5ECF6\",\"width\":0.5},\"pattern\":{\"fillmode\":\"overlay\",\"size\":10,\"solidity\":0.2}},\"type\":\"bar\"}],\"scattergeo\":[{\"type\":\"scattergeo\",\"marker\":{\"colorbar\":{\"outlinewidth\":0,\"ticks\":\"\"}}}],\"scatterpolar\":[{\"type\":\"scatterpolar\",\"marker\":{\"colorbar\":{\"outlinewidth\":0,\"ticks\":\"\"}}}],\"histogram\":[{\"marker\":{\"pattern\":{\"fillmode\":\"overlay\",\"size\":10,\"solidity\":0.2}},\"type\":\"histogram\"}],\"scattergl\":[{\"type\":\"scattergl\",\"marker\":{\"colorbar\":{\"outlinewidth\":0,\"ticks\":\"\"}}}],\"scatter3d\":[{\"type\":\"scatter3d\",\"line\":{\"colorbar\":{\"outlinewidth\":0,\"ticks\":\"\"}},\"marker\":{\"colorbar\":{\"outlinewidth\":0,\"ticks\":\"\"}}}],\"scattermapbox\":[{\"type\":\"scattermapbox\",\"marker\":{\"colorbar\":{\"outlinewidth\":0,\"ticks\":\"\"}}}],\"scatterternary\":[{\"type\":\"scatterternary\",\"marker\":{\"colorbar\":{\"outlinewidth\":0,\"ticks\":\"\"}}}],\"scattercarpet\":[{\"type\":\"scattercarpet\",\"marker\":{\"colorbar\":{\"outlinewidth\":0,\"ticks\":\"\"}}}],\"carpet\":[{\"aaxis\":{\"endlinecolor\":\"#2a3f5f\",\"gridcolor\":\"white\",\"linecolor\":\"white\",\"minorgridcolor\":\"white\",\"startlinecolor\":\"#2a3f5f\"},\"baxis\":{\"endlinecolor\":\"#2a3f5f\",\"gridcolor\":\"white\",\"linecolor\":\"white\",\"minorgridcolor\":\"white\",\"startlinecolor\":\"#2a3f5f\"},\"type\":\"carpet\"}],\"table\":[{\"cells\":{\"fill\":{\"color\":\"#EBF0F8\"},\"line\":{\"color\":\"white\"}},\"header\":{\"fill\":{\"color\":\"#C8D4E3\"},\"line\":{\"color\":\"white\"}},\"type\":\"table\"}],\"barpolar\":[{\"marker\":{\"line\":{\"color\":\"#E5ECF6\",\"width\":0.5},\"pattern\":{\"fillmode\":\"overlay\",\"size\":10,\"solidity\":0.2}},\"type\":\"barpolar\"}],\"pie\":[{\"automargin\":true,\"type\":\"pie\"}]},\"layout\":{\"autotypenumbers\":\"strict\",\"colorway\":[\"#636efa\",\"#EF553B\",\"#00cc96\",\"#ab63fa\",\"#FFA15A\",\"#19d3f3\",\"#FF6692\",\"#B6E880\",\"#FF97FF\",\"#FECB52\"],\"font\":{\"color\":\"#2a3f5f\"},\"hovermode\":\"closest\",\"hoverlabel\":{\"align\":\"left\"},\"paper_bgcolor\":\"white\",\"plot_bgcolor\":\"#E5ECF6\",\"polar\":{\"bgcolor\":\"#E5ECF6\",\"angularaxis\":{\"gridcolor\":\"white\",\"linecolor\":\"white\",\"ticks\":\"\"},\"radialaxis\":{\"gridcolor\":\"white\",\"linecolor\":\"white\",\"ticks\":\"\"}},\"ternary\":{\"bgcolor\":\"#E5ECF6\",\"aaxis\":{\"gridcolor\":\"white\",\"linecolor\":\"white\",\"ticks\":\"\"},\"baxis\":{\"gridcolor\":\"white\",\"linecolor\":\"white\",\"ticks\":\"\"},\"caxis\":{\"gridcolor\":\"white\",\"linecolor\":\"white\",\"ticks\":\"\"}},\"coloraxis\":{\"colorbar\":{\"outlinewidth\":0,\"ticks\":\"\"}},\"colorscale\":{\"sequential\":[[0.0,\"#0d0887\"],[0.1111111111111111,\"#46039f\"],[0.2222222222222222,\"#7201a8\"],[0.3333333333333333,\"#9c179e\"],[0.4444444444444444,\"#bd3786\"],[0.5555555555555556,\"#d8576b\"],[0.6666666666666666,\"#ed7953\"],[0.7777777777777778,\"#fb9f3a\"],[0.8888888888888888,\"#fdca26\"],[1.0,\"#f0f921\"]],\"sequentialminus\":[[0.0,\"#0d0887\"],[0.1111111111111111,\"#46039f\"],[0.2222222222222222,\"#7201a8\"],[0.3333333333333333,\"#9c179e\"],[0.4444444444444444,\"#bd3786\"],[0.5555555555555556,\"#d8576b\"],[0.6666666666666666,\"#ed7953\"],[0.7777777777777778,\"#fb9f3a\"],[0.8888888888888888,\"#fdca26\"],[1.0,\"#f0f921\"]],\"diverging\":[[0,\"#8e0152\"],[0.1,\"#c51b7d\"],[0.2,\"#de77ae\"],[0.3,\"#f1b6da\"],[0.4,\"#fde0ef\"],[0.5,\"#f7f7f7\"],[0.6,\"#e6f5d0\"],[0.7,\"#b8e186\"],[0.8,\"#7fbc41\"],[0.9,\"#4d9221\"],[1,\"#276419\"]]},\"xaxis\":{\"gridcolor\":\"white\",\"linecolor\":\"white\",\"ticks\":\"\",\"title\":{\"standoff\":15},\"zerolinecolor\":\"white\",\"automargin\":true,\"zerolinewidth\":2},\"yaxis\":{\"gridcolor\":\"white\",\"linecolor\":\"white\",\"ticks\":\"\",\"title\":{\"standoff\":15},\"zerolinecolor\":\"white\",\"automargin\":true,\"zerolinewidth\":2},\"scene\":{\"xaxis\":{\"backgroundcolor\":\"#E5ECF6\",\"gridcolor\":\"white\",\"linecolor\":\"white\",\"showbackground\":true,\"ticks\":\"\",\"zerolinecolor\":\"white\",\"gridwidth\":2},\"yaxis\":{\"backgroundcolor\":\"#E5ECF6\",\"gridcolor\":\"white\",\"linecolor\":\"white\",\"showbackground\":true,\"ticks\":\"\",\"zerolinecolor\":\"white\",\"gridwidth\":2},\"zaxis\":{\"backgroundcolor\":\"#E5ECF6\",\"gridcolor\":\"white\",\"linecolor\":\"white\",\"showbackground\":true,\"ticks\":\"\",\"zerolinecolor\":\"white\",\"gridwidth\":2}},\"shapedefaults\":{\"line\":{\"color\":\"#2a3f5f\"}},\"annotationdefaults\":{\"arrowcolor\":\"#2a3f5f\",\"arrowhead\":0,\"arrowwidth\":1},\"geo\":{\"bgcolor\":\"white\",\"landcolor\":\"#E5ECF6\",\"subunitcolor\":\"white\",\"showland\":true,\"showlakes\":true,\"lakecolor\":\"white\"},\"title\":{\"x\":0.05},\"mapbox\":{\"style\":\"light\"}}},\"xaxis\":{\"anchor\":\"y\",\"domain\":[0.0,1.0],\"title\":{\"text\":\"Year\"},\"tickangle\":-45,\"tickmode\":\"linear\",\"tickvals\":[2014,2012,2016,2017,2018,2020,2022,2010,2021,2019,2009,2015,2013,2011,2023]},\"yaxis\":{\"anchor\":\"x\",\"domain\":[0.0,1.0],\"title\":{\"text\":\"Minimum Wage (CAD)\",\"font\":{\"size\":16}},\"tickfont\":{\"size\":14},\"showgrid\":true,\"gridcolor\":\"gray\",\"gridwidth\":1},\"legend\":{\"title\":{\"text\":\"GEO\"},\"tracegroupgap\":0,\"font\":{\"size\":14}},\"title\":{\"text\":\"Minimum Wage by Year, and GEO\",\"font\":{\"size\":24,\"family\":\"Arial\",\"color\":\"black\"}},\"barmode\":\"relative\",\"margin\":{\"l\":50,\"r\":50,\"t\":70,\"b\":50},\"hoverlabel\":{\"font\":{\"size\":14,\"family\":\"Arial\"},\"bgcolor\":\"white\"},\"plot_bgcolor\":\"rgba(0,0,0,0)\",\"paper_bgcolor\":\"rgba(0,0,0,0)\"},                        {\"responsive\": true}                    ).then(function(){\n",
       "                            \n",
       "var gd = document.getElementById('991c8752-368c-40b9-837c-632da43fe060');\n",
       "var x = new MutationObserver(function (mutations, observer) {{\n",
       "        var display = window.getComputedStyle(gd).display;\n",
       "        if (!display || display === 'none') {{\n",
       "            console.log([gd, 'removed!']);\n",
       "            Plotly.purge(gd);\n",
       "            observer.disconnect();\n",
       "        }}\n",
       "}});\n",
       "\n",
       "// Listen for the removal of the full notebook cells\n",
       "var notebookContainer = gd.closest('#notebook-container');\n",
       "if (notebookContainer) {{\n",
       "    x.observe(notebookContainer, {childList: true});\n",
       "}}\n",
       "\n",
       "// Listen for the clearing of the current output cell\n",
       "var outputEl = gd.closest('.output');\n",
       "if (outputEl) {{\n",
       "    x.observe(outputEl, {childList: true});\n",
       "}}\n",
       "\n",
       "                        })                };                });            </script>        </div>"
      ]
     },
     "metadata": {},
     "output_type": "display_data"
    }
   ],
   "source": [
    "# Create a bar plot using Plotly with improved aesthetics\n",
    "fig = px.bar(\n",
    "    wage_province_min_year,  # Use the filtered DataFrame for minimum wages\n",
    "    x='YEAR',\n",
    "    y='min_wage_year',\n",
    "    color='GEO',\n",
    "    title='Minimum Wage by Year, and GEO',\n",
    "    text='min_wage_year',  # Show min wage inside the bars\n",
    "    labels={'min_wage_year': 'Minimum Wage (CAD)', 'YEAR': 'Year'},\n",
    ")\n",
    "\n",
    "# Customize layout and appearance\n",
    "fig.update_traces(\n",
    "    texttemplate='%{text:.2f}', \n",
    "    textposition='inside',\n",
    "    marker=dict(line=dict(color='black', width=1.5)),  # Add borders to bars\n",
    "    opacity=0.85  # Slightly transparent for visual effect\n",
    ")\n",
    "\n",
    "# Customize layout further\n",
    "fig.update_layout(\n",
    "    title_font=dict(size=24, family='Arial', color='black'),  # Title font style\n",
    "    xaxis_title='Year',\n",
    "    yaxis_title='Minimum Wage (CAD)',\n",
    "    xaxis_tickangle=-45,  # Rotate x-axis labels for better readability\n",
    "    xaxis=dict(\n",
    "        tickmode='linear',  # Ensure all years are shown\n",
    "        tickvals=wage_province_min_year['YEAR'].unique()  # Use unique years\n",
    "    ),\n",
    "    yaxis=dict(titlefont=dict(size=16), tickfont=dict(size=14)),  # Font size for axes\n",
    "    legend_title_text='GEO',\n",
    "    legend=dict(font=dict(size=14)),  # Font size for legend\n",
    "    margin=dict(l=50, r=50, t=70, b=50),  # Adjust margins for better spacing\n",
    "    hoverlabel=dict(bgcolor='white', font_size=14, font_family='Arial'),  # Customize hover labels\n",
    "    plot_bgcolor='rgba(0,0,0,0)',  # Transparent background\n",
    "    paper_bgcolor='rgba(0,0,0,0)',  # Transparent paper background\n",
    ")\n",
    "\n",
    "# Add gridlines for better readability\n",
    "fig.update_yaxes(showgrid=True, gridcolor='gray', gridwidth=1)\n",
    "\n",
    "# Show the plot\n",
    "fig.show()"
   ]
  },
  {
   "cell_type": "code",
   "execution_count": null,
   "id": "b230f2e8",
   "metadata": {},
   "outputs": [],
   "source": []
  }
 ],
 "metadata": {
  "kernelspec": {
   "display_name": "Python 3 (ipykernel)",
   "language": "python",
   "name": "python3"
  },
  "language_info": {
   "codemirror_mode": {
    "name": "ipython",
    "version": 3
   },
   "file_extension": ".py",
   "mimetype": "text/x-python",
   "name": "python",
   "nbconvert_exporter": "python",
   "pygments_lexer": "ipython3",
   "version": "3.11.5"
  }
 },
 "nbformat": 4,
 "nbformat_minor": 5
}
